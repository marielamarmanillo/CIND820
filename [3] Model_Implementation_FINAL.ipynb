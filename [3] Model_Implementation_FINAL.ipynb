{
  "cells": [
    {
      "cell_type": "markdown",
      "source": [
        "**MODEL IMPLEMENTATION**"
      ],
      "metadata": {
        "id": "Du2sJ5A6aHX_"
      },
      "id": "Du2sJ5A6aHX_"
    },
    {
      "cell_type": "markdown",
      "source": [
        "**Table of Contents:**\n",
        "1. Decision Tree Algorithm\n",
        "2. KNN Algorithm\n",
        "3. Naive Bayes Algorithm\n",
        "4. Implementing Models Using Crossing Validation\n",
        "5. Splitting train and test sets from the beginning\n",
        "6. Revisiting Feature Selection"
      ],
      "metadata": {
        "id": "9NgCjjxXkMuV"
      },
      "id": "9NgCjjxXkMuV"
    },
    {
      "cell_type": "code",
      "source": [
        "import pandas as pd\n",
        "import numpy as np\n",
        "import matplotlib.pyplot as plt\n",
        "from sklearn.model_selection import train_test_split\n",
        "from sklearn import metrics\n",
        "from sklearn.feature_selection import SelectKBest, mutual_info_classif, f_classif\n",
        "from sklearn.preprocessing import LabelEncoder\n",
        "from imblearn.over_sampling import SMOTE\n",
        "from sklearn.model_selection import cross_val_score\n",
        "from sklearn.tree import DecisionTreeClassifier\n",
        "from sklearn.neighbors import KNeighborsClassifier\n",
        "from sklearn.naive_bayes import GaussianNB\n",
        "from sklearn.metrics import confusion_matrix\n",
        "from sklearn.metrics import classification_report\n",
        "from sklearn.metrics import accuracy_score, f1_score, precision_score, recall_score\n",
        "from sklearn import tree\n",
        "import seaborn as sns"
      ],
      "metadata": {
        "id": "IPJLhennaIOR"
      },
      "id": "IPJLhennaIOR",
      "execution_count": 66,
      "outputs": []
    },
    {
      "cell_type": "code",
      "source": [
        "# Upload the selected dataset for this project\n",
        "data = pd.read_csv('Major_Crime_Indicators_Open_Data.csv')"
      ],
      "metadata": {
        "id": "Tb1in6ZuuFJs"
      },
      "id": "Tb1in6ZuuFJs",
      "execution_count": 35,
      "outputs": []
    },
    {
      "cell_type": "code",
      "source": [
        "# Cleaning dataset based on previous step DATA CLEANING AND PRE-PROCESSING & FEATURE SELECTION\n",
        "\n",
        "# Removing duplicate rows from the dataset\n",
        "data.drop_duplicates(subset = ['EVENT_UNIQUE_ID'], inplace = True)\n",
        "# Omitting missing values\n",
        "data.dropna(inplace=True)\n",
        "# Dropping rows containing years of crime occurrence from 2000 to 2013\n",
        "drop_rows = data['OCC_YEAR'].isin([2000, 2001, 2002, 2003, 2004, 2005, 2006, 2007, 2008, 2009, 2010, 2011, 2012, 2013])\n",
        "data.drop(data[drop_rows].index, inplace=True)\n",
        "# Dropping NSA from HOOD_158 and NEIGHBOURHOOD_158\n",
        "filtered_indices = data[(data['HOOD_158'] == 'NSA') | (data['NEIGHBOURHOOD_158'] == 'NSA')].index\n",
        "data.drop(filtered_indices, inplace=True)\n",
        "# Dropping irrelevant variables to clean up the dataset\n",
        "attributes_to_drop = ['OBJECTID', 'EVENT_UNIQUE_ID', 'OFFENCE', 'LOCATION_TYPE', 'LAT_WGS84', 'LONG_WGS84', 'NEIGHBOURHOOD_140',\n",
        "                      'HOOD_140', 'REPORT_HOUR', 'DIVISION', 'OCC_DATE', 'REPORT_DATE', 'REPORT_YEAR', 'REPORT_DOY', 'REPORT_DOW',\n",
        "                      'OCC_DOW', 'OCC_DAY', 'REPORT_MONTH', 'OCC_DOY', 'OCC_MONTH', 'REPORT_DAY', 'UCR_EXT']\n",
        "data.drop(columns = attributes_to_drop, inplace = True)\n",
        "# Convert data types\n",
        "data['OCC_YEAR'] = data['OCC_YEAR'].astype(int)\n",
        "# Encode categorical variables\n",
        "categorical_columns = ['UCR_CODE', 'PREMISES_TYPE', 'NEIGHBOURHOOD_158', 'HOOD_158',\n",
        "                       'OCC_HOUR', 'OCC_YEAR', 'MCI_CATEGORY']\n",
        "label_encoder = LabelEncoder()\n",
        "for column in categorical_columns:\n",
        "    data[column] = label_encoder.fit_transform(data[column])\n",
        "# Display cleaned dataset\n",
        "data"
      ],
      "metadata": {
        "id": "wo9fYIV4CEpd",
        "colab": {
          "base_uri": "https://localhost:8080/",
          "height": 423
        },
        "outputId": "b8c674fb-385f-4adc-b54a-ccd734cfdb3f"
      },
      "id": "wo9fYIV4CEpd",
      "execution_count": 36,
      "outputs": [
        {
          "output_type": "execute_result",
          "data": {
            "text/plain": [
              "                   X             Y  OCC_YEAR  OCC_HOUR  PREMISES_TYPE  \\\n",
              "0      -8.809036e+06  5.431523e+06         0         1              6   \n",
              "2      -8.832825e+06  5.419631e+06         0         0              1   \n",
              "5      -8.840629e+06  5.412225e+06         0         2              1   \n",
              "6      -8.839460e+06  5.423396e+06         0         3              5   \n",
              "7      -8.813613e+06  5.428591e+06         0         3              3   \n",
              "...              ...           ...       ...       ...            ...   \n",
              "372893 -8.849874e+06  5.425325e+06         9        13              3   \n",
              "372894 -8.832825e+06  5.419631e+06         9        13              0   \n",
              "372895 -8.838191e+06  5.415297e+06         9        12              1   \n",
              "372896 -8.851986e+06  5.429799e+06         9        14              5   \n",
              "372897 -8.832606e+06  5.429093e+06         9        14              0   \n",
              "\n",
              "        UCR_CODE  MCI_CATEGORY  HOOD_158  NEIGHBOURHOOD_158  \n",
              "0              2             0        42                141  \n",
              "2              1             0       114                133  \n",
              "5              2             0       140                134  \n",
              "6              2             0         6                 80  \n",
              "7              2             0        36                138  \n",
              "...          ...           ...       ...                ...  \n",
              "372893        15             2        84                 53  \n",
              "372894         2             0       114                133  \n",
              "372895        15             2       153                  3  \n",
              "372896        13             3        83                 15  \n",
              "372897         2             0        50                 48  \n",
              "\n",
              "[318654 rows x 9 columns]"
            ],
            "text/html": [
              "\n",
              "  <div id=\"df-8df0c33c-3833-48d6-835e-7734aa8b0c79\" class=\"colab-df-container\">\n",
              "    <div>\n",
              "<style scoped>\n",
              "    .dataframe tbody tr th:only-of-type {\n",
              "        vertical-align: middle;\n",
              "    }\n",
              "\n",
              "    .dataframe tbody tr th {\n",
              "        vertical-align: top;\n",
              "    }\n",
              "\n",
              "    .dataframe thead th {\n",
              "        text-align: right;\n",
              "    }\n",
              "</style>\n",
              "<table border=\"1\" class=\"dataframe\">\n",
              "  <thead>\n",
              "    <tr style=\"text-align: right;\">\n",
              "      <th></th>\n",
              "      <th>X</th>\n",
              "      <th>Y</th>\n",
              "      <th>OCC_YEAR</th>\n",
              "      <th>OCC_HOUR</th>\n",
              "      <th>PREMISES_TYPE</th>\n",
              "      <th>UCR_CODE</th>\n",
              "      <th>MCI_CATEGORY</th>\n",
              "      <th>HOOD_158</th>\n",
              "      <th>NEIGHBOURHOOD_158</th>\n",
              "    </tr>\n",
              "  </thead>\n",
              "  <tbody>\n",
              "    <tr>\n",
              "      <th>0</th>\n",
              "      <td>-8.809036e+06</td>\n",
              "      <td>5.431523e+06</td>\n",
              "      <td>0</td>\n",
              "      <td>1</td>\n",
              "      <td>6</td>\n",
              "      <td>2</td>\n",
              "      <td>0</td>\n",
              "      <td>42</td>\n",
              "      <td>141</td>\n",
              "    </tr>\n",
              "    <tr>\n",
              "      <th>2</th>\n",
              "      <td>-8.832825e+06</td>\n",
              "      <td>5.419631e+06</td>\n",
              "      <td>0</td>\n",
              "      <td>0</td>\n",
              "      <td>1</td>\n",
              "      <td>1</td>\n",
              "      <td>0</td>\n",
              "      <td>114</td>\n",
              "      <td>133</td>\n",
              "    </tr>\n",
              "    <tr>\n",
              "      <th>5</th>\n",
              "      <td>-8.840629e+06</td>\n",
              "      <td>5.412225e+06</td>\n",
              "      <td>0</td>\n",
              "      <td>2</td>\n",
              "      <td>1</td>\n",
              "      <td>2</td>\n",
              "      <td>0</td>\n",
              "      <td>140</td>\n",
              "      <td>134</td>\n",
              "    </tr>\n",
              "    <tr>\n",
              "      <th>6</th>\n",
              "      <td>-8.839460e+06</td>\n",
              "      <td>5.423396e+06</td>\n",
              "      <td>0</td>\n",
              "      <td>3</td>\n",
              "      <td>5</td>\n",
              "      <td>2</td>\n",
              "      <td>0</td>\n",
              "      <td>6</td>\n",
              "      <td>80</td>\n",
              "    </tr>\n",
              "    <tr>\n",
              "      <th>7</th>\n",
              "      <td>-8.813613e+06</td>\n",
              "      <td>5.428591e+06</td>\n",
              "      <td>0</td>\n",
              "      <td>3</td>\n",
              "      <td>3</td>\n",
              "      <td>2</td>\n",
              "      <td>0</td>\n",
              "      <td>36</td>\n",
              "      <td>138</td>\n",
              "    </tr>\n",
              "    <tr>\n",
              "      <th>...</th>\n",
              "      <td>...</td>\n",
              "      <td>...</td>\n",
              "      <td>...</td>\n",
              "      <td>...</td>\n",
              "      <td>...</td>\n",
              "      <td>...</td>\n",
              "      <td>...</td>\n",
              "      <td>...</td>\n",
              "      <td>...</td>\n",
              "    </tr>\n",
              "    <tr>\n",
              "      <th>372893</th>\n",
              "      <td>-8.849874e+06</td>\n",
              "      <td>5.425325e+06</td>\n",
              "      <td>9</td>\n",
              "      <td>13</td>\n",
              "      <td>3</td>\n",
              "      <td>15</td>\n",
              "      <td>2</td>\n",
              "      <td>84</td>\n",
              "      <td>53</td>\n",
              "    </tr>\n",
              "    <tr>\n",
              "      <th>372894</th>\n",
              "      <td>-8.832825e+06</td>\n",
              "      <td>5.419631e+06</td>\n",
              "      <td>9</td>\n",
              "      <td>13</td>\n",
              "      <td>0</td>\n",
              "      <td>2</td>\n",
              "      <td>0</td>\n",
              "      <td>114</td>\n",
              "      <td>133</td>\n",
              "    </tr>\n",
              "    <tr>\n",
              "      <th>372895</th>\n",
              "      <td>-8.838191e+06</td>\n",
              "      <td>5.415297e+06</td>\n",
              "      <td>9</td>\n",
              "      <td>12</td>\n",
              "      <td>1</td>\n",
              "      <td>15</td>\n",
              "      <td>2</td>\n",
              "      <td>153</td>\n",
              "      <td>3</td>\n",
              "    </tr>\n",
              "    <tr>\n",
              "      <th>372896</th>\n",
              "      <td>-8.851986e+06</td>\n",
              "      <td>5.429799e+06</td>\n",
              "      <td>9</td>\n",
              "      <td>14</td>\n",
              "      <td>5</td>\n",
              "      <td>13</td>\n",
              "      <td>3</td>\n",
              "      <td>83</td>\n",
              "      <td>15</td>\n",
              "    </tr>\n",
              "    <tr>\n",
              "      <th>372897</th>\n",
              "      <td>-8.832606e+06</td>\n",
              "      <td>5.429093e+06</td>\n",
              "      <td>9</td>\n",
              "      <td>14</td>\n",
              "      <td>0</td>\n",
              "      <td>2</td>\n",
              "      <td>0</td>\n",
              "      <td>50</td>\n",
              "      <td>48</td>\n",
              "    </tr>\n",
              "  </tbody>\n",
              "</table>\n",
              "<p>318654 rows × 9 columns</p>\n",
              "</div>\n",
              "    <div class=\"colab-df-buttons\">\n",
              "\n",
              "  <div class=\"colab-df-container\">\n",
              "    <button class=\"colab-df-convert\" onclick=\"convertToInteractive('df-8df0c33c-3833-48d6-835e-7734aa8b0c79')\"\n",
              "            title=\"Convert this dataframe to an interactive table.\"\n",
              "            style=\"display:none;\">\n",
              "\n",
              "  <svg xmlns=\"http://www.w3.org/2000/svg\" height=\"24px\" viewBox=\"0 -960 960 960\">\n",
              "    <path d=\"M120-120v-720h720v720H120Zm60-500h600v-160H180v160Zm220 220h160v-160H400v160Zm0 220h160v-160H400v160ZM180-400h160v-160H180v160Zm440 0h160v-160H620v160ZM180-180h160v-160H180v160Zm440 0h160v-160H620v160Z\"/>\n",
              "  </svg>\n",
              "    </button>\n",
              "\n",
              "  <style>\n",
              "    .colab-df-container {\n",
              "      display:flex;\n",
              "      gap: 12px;\n",
              "    }\n",
              "\n",
              "    .colab-df-convert {\n",
              "      background-color: #E8F0FE;\n",
              "      border: none;\n",
              "      border-radius: 50%;\n",
              "      cursor: pointer;\n",
              "      display: none;\n",
              "      fill: #1967D2;\n",
              "      height: 32px;\n",
              "      padding: 0 0 0 0;\n",
              "      width: 32px;\n",
              "    }\n",
              "\n",
              "    .colab-df-convert:hover {\n",
              "      background-color: #E2EBFA;\n",
              "      box-shadow: 0px 1px 2px rgba(60, 64, 67, 0.3), 0px 1px 3px 1px rgba(60, 64, 67, 0.15);\n",
              "      fill: #174EA6;\n",
              "    }\n",
              "\n",
              "    .colab-df-buttons div {\n",
              "      margin-bottom: 4px;\n",
              "    }\n",
              "\n",
              "    [theme=dark] .colab-df-convert {\n",
              "      background-color: #3B4455;\n",
              "      fill: #D2E3FC;\n",
              "    }\n",
              "\n",
              "    [theme=dark] .colab-df-convert:hover {\n",
              "      background-color: #434B5C;\n",
              "      box-shadow: 0px 1px 3px 1px rgba(0, 0, 0, 0.15);\n",
              "      filter: drop-shadow(0px 1px 2px rgba(0, 0, 0, 0.3));\n",
              "      fill: #FFFFFF;\n",
              "    }\n",
              "  </style>\n",
              "\n",
              "    <script>\n",
              "      const buttonEl =\n",
              "        document.querySelector('#df-8df0c33c-3833-48d6-835e-7734aa8b0c79 button.colab-df-convert');\n",
              "      buttonEl.style.display =\n",
              "        google.colab.kernel.accessAllowed ? 'block' : 'none';\n",
              "\n",
              "      async function convertToInteractive(key) {\n",
              "        const element = document.querySelector('#df-8df0c33c-3833-48d6-835e-7734aa8b0c79');\n",
              "        const dataTable =\n",
              "          await google.colab.kernel.invokeFunction('convertToInteractive',\n",
              "                                                    [key], {});\n",
              "        if (!dataTable) return;\n",
              "\n",
              "        const docLinkHtml = 'Like what you see? Visit the ' +\n",
              "          '<a target=\"_blank\" href=https://colab.research.google.com/notebooks/data_table.ipynb>data table notebook</a>'\n",
              "          + ' to learn more about interactive tables.';\n",
              "        element.innerHTML = '';\n",
              "        dataTable['output_type'] = 'display_data';\n",
              "        await google.colab.output.renderOutput(dataTable, element);\n",
              "        const docLink = document.createElement('div');\n",
              "        docLink.innerHTML = docLinkHtml;\n",
              "        element.appendChild(docLink);\n",
              "      }\n",
              "    </script>\n",
              "  </div>\n",
              "\n",
              "\n",
              "<div id=\"df-48e18ca3-2a54-4fdc-9306-4f199465c5a7\">\n",
              "  <button class=\"colab-df-quickchart\" onclick=\"quickchart('df-48e18ca3-2a54-4fdc-9306-4f199465c5a7')\"\n",
              "            title=\"Suggest charts\"\n",
              "            style=\"display:none;\">\n",
              "\n",
              "<svg xmlns=\"http://www.w3.org/2000/svg\" height=\"24px\"viewBox=\"0 0 24 24\"\n",
              "     width=\"24px\">\n",
              "    <g>\n",
              "        <path d=\"M19 3H5c-1.1 0-2 .9-2 2v14c0 1.1.9 2 2 2h14c1.1 0 2-.9 2-2V5c0-1.1-.9-2-2-2zM9 17H7v-7h2v7zm4 0h-2V7h2v10zm4 0h-2v-4h2v4z\"/>\n",
              "    </g>\n",
              "</svg>\n",
              "  </button>\n",
              "\n",
              "<style>\n",
              "  .colab-df-quickchart {\n",
              "      --bg-color: #E8F0FE;\n",
              "      --fill-color: #1967D2;\n",
              "      --hover-bg-color: #E2EBFA;\n",
              "      --hover-fill-color: #174EA6;\n",
              "      --disabled-fill-color: #AAA;\n",
              "      --disabled-bg-color: #DDD;\n",
              "  }\n",
              "\n",
              "  [theme=dark] .colab-df-quickchart {\n",
              "      --bg-color: #3B4455;\n",
              "      --fill-color: #D2E3FC;\n",
              "      --hover-bg-color: #434B5C;\n",
              "      --hover-fill-color: #FFFFFF;\n",
              "      --disabled-bg-color: #3B4455;\n",
              "      --disabled-fill-color: #666;\n",
              "  }\n",
              "\n",
              "  .colab-df-quickchart {\n",
              "    background-color: var(--bg-color);\n",
              "    border: none;\n",
              "    border-radius: 50%;\n",
              "    cursor: pointer;\n",
              "    display: none;\n",
              "    fill: var(--fill-color);\n",
              "    height: 32px;\n",
              "    padding: 0;\n",
              "    width: 32px;\n",
              "  }\n",
              "\n",
              "  .colab-df-quickchart:hover {\n",
              "    background-color: var(--hover-bg-color);\n",
              "    box-shadow: 0 1px 2px rgba(60, 64, 67, 0.3), 0 1px 3px 1px rgba(60, 64, 67, 0.15);\n",
              "    fill: var(--button-hover-fill-color);\n",
              "  }\n",
              "\n",
              "  .colab-df-quickchart-complete:disabled,\n",
              "  .colab-df-quickchart-complete:disabled:hover {\n",
              "    background-color: var(--disabled-bg-color);\n",
              "    fill: var(--disabled-fill-color);\n",
              "    box-shadow: none;\n",
              "  }\n",
              "\n",
              "  .colab-df-spinner {\n",
              "    border: 2px solid var(--fill-color);\n",
              "    border-color: transparent;\n",
              "    border-bottom-color: var(--fill-color);\n",
              "    animation:\n",
              "      spin 1s steps(1) infinite;\n",
              "  }\n",
              "\n",
              "  @keyframes spin {\n",
              "    0% {\n",
              "      border-color: transparent;\n",
              "      border-bottom-color: var(--fill-color);\n",
              "      border-left-color: var(--fill-color);\n",
              "    }\n",
              "    20% {\n",
              "      border-color: transparent;\n",
              "      border-left-color: var(--fill-color);\n",
              "      border-top-color: var(--fill-color);\n",
              "    }\n",
              "    30% {\n",
              "      border-color: transparent;\n",
              "      border-left-color: var(--fill-color);\n",
              "      border-top-color: var(--fill-color);\n",
              "      border-right-color: var(--fill-color);\n",
              "    }\n",
              "    40% {\n",
              "      border-color: transparent;\n",
              "      border-right-color: var(--fill-color);\n",
              "      border-top-color: var(--fill-color);\n",
              "    }\n",
              "    60% {\n",
              "      border-color: transparent;\n",
              "      border-right-color: var(--fill-color);\n",
              "    }\n",
              "    80% {\n",
              "      border-color: transparent;\n",
              "      border-right-color: var(--fill-color);\n",
              "      border-bottom-color: var(--fill-color);\n",
              "    }\n",
              "    90% {\n",
              "      border-color: transparent;\n",
              "      border-bottom-color: var(--fill-color);\n",
              "    }\n",
              "  }\n",
              "</style>\n",
              "\n",
              "  <script>\n",
              "    async function quickchart(key) {\n",
              "      const quickchartButtonEl =\n",
              "        document.querySelector('#' + key + ' button');\n",
              "      quickchartButtonEl.disabled = true;  // To prevent multiple clicks.\n",
              "      quickchartButtonEl.classList.add('colab-df-spinner');\n",
              "      try {\n",
              "        const charts = await google.colab.kernel.invokeFunction(\n",
              "            'suggestCharts', [key], {});\n",
              "      } catch (error) {\n",
              "        console.error('Error during call to suggestCharts:', error);\n",
              "      }\n",
              "      quickchartButtonEl.classList.remove('colab-df-spinner');\n",
              "      quickchartButtonEl.classList.add('colab-df-quickchart-complete');\n",
              "    }\n",
              "    (() => {\n",
              "      let quickchartButtonEl =\n",
              "        document.querySelector('#df-48e18ca3-2a54-4fdc-9306-4f199465c5a7 button');\n",
              "      quickchartButtonEl.style.display =\n",
              "        google.colab.kernel.accessAllowed ? 'block' : 'none';\n",
              "    })();\n",
              "  </script>\n",
              "</div>\n",
              "    </div>\n",
              "  </div>\n"
            ],
            "application/vnd.google.colaboratory.intrinsic+json": {
              "type": "dataframe",
              "variable_name": "data"
            }
          },
          "metadata": {},
          "execution_count": 36
        }
      ]
    },
    {
      "cell_type": "code",
      "source": [
        "# Checking dataset info\n",
        "print(\"Dataset info:\")\n",
        "print(data.info())"
      ],
      "metadata": {
        "id": "Wvptas_YaB2q",
        "colab": {
          "base_uri": "https://localhost:8080/"
        },
        "outputId": "d89de69b-2125-4346-9191-28db3a9dbd39"
      },
      "execution_count": 37,
      "outputs": [
        {
          "output_type": "stream",
          "name": "stdout",
          "text": [
            "Dataset info:\n",
            "<class 'pandas.core.frame.DataFrame'>\n",
            "Int64Index: 318654 entries, 0 to 372897\n",
            "Data columns (total 9 columns):\n",
            " #   Column             Non-Null Count   Dtype  \n",
            "---  ------             --------------   -----  \n",
            " 0   X                  318654 non-null  float64\n",
            " 1   Y                  318654 non-null  float64\n",
            " 2   OCC_YEAR           318654 non-null  int64  \n",
            " 3   OCC_HOUR           318654 non-null  int64  \n",
            " 4   PREMISES_TYPE      318654 non-null  int64  \n",
            " 5   UCR_CODE           318654 non-null  int64  \n",
            " 6   MCI_CATEGORY       318654 non-null  int64  \n",
            " 7   HOOD_158           318654 non-null  int64  \n",
            " 8   NEIGHBOURHOOD_158  318654 non-null  int64  \n",
            "dtypes: float64(2), int64(7)\n",
            "memory usage: 24.3 MB\n",
            "None\n"
          ]
        }
      ],
      "id": "Wvptas_YaB2q"
    },
    {
      "cell_type": "code",
      "source": [
        "# Checking if the target variable is imbalanced\n",
        "class_counts = data['MCI_CATEGORY'].value_counts()\n",
        "class_distribution = class_counts / class_counts.sum()\n",
        "\n",
        "print(\"Class Distribution:\")\n",
        "print(class_distribution)\n",
        "\n",
        "is_imbalanced = (class_distribution.min() < 0.05) or (class_distribution.max() / class_distribution.min() > 10)\n",
        "\n",
        "if is_imbalanced:\n",
        "    print(\"The dataset is imbalanced.\")\n",
        "else:\n",
        "    print(\"The dataset is not imbalanced.\")"
      ],
      "metadata": {
        "colab": {
          "base_uri": "https://localhost:8080/"
        },
        "id": "exgtoI9xJZAc",
        "outputId": "1d1606f7-c7b0-4c50-f54d-64fc8691f10d"
      },
      "id": "exgtoI9xJZAc",
      "execution_count": 38,
      "outputs": [
        {
          "output_type": "stream",
          "name": "stdout",
          "text": [
            "Class Distribution:\n",
            "0    0.508825\n",
            "2    0.212855\n",
            "1    0.163048\n",
            "3    0.078590\n",
            "4    0.036682\n",
            "Name: MCI_CATEGORY, dtype: float64\n",
            "The dataset is imbalanced.\n"
          ]
        }
      ]
    },
    {
      "cell_type": "code",
      "source": [
        "# Applying train-test_split()\n",
        "seed = 123\n",
        "target_var = 'MCI_CATEGORY'\n",
        "predictors = data.columns[data.columns != target_var]\n",
        "X_train, X_test, y_train, y_test = train_test_split(data.loc[:,predictors], data[target_var], random_state = seed, test_size = 0.3)"
      ],
      "metadata": {
        "id": "CcdeurVcJa9C"
      },
      "id": "CcdeurVcJa9C",
      "execution_count": 39,
      "outputs": []
    },
    {
      "cell_type": "code",
      "source": [
        "# Applying SMOTE to balance the train set\n",
        "smote = SMOTE(random_state=123)\n",
        "X_train_resampled, y_train_resampled = smote.fit_resample(X_train, y_train)\n",
        "\n",
        "print(\"Class Distribution after SMOTE:\")\n",
        "print(y_train_resampled.value_counts())"
      ],
      "metadata": {
        "colab": {
          "base_uri": "https://localhost:8080/"
        },
        "id": "W-fQ7TW_rwsD",
        "outputId": "a3346b2f-8464-4dfd-a89f-53275afb3020"
      },
      "id": "W-fQ7TW_rwsD",
      "execution_count": 40,
      "outputs": [
        {
          "output_type": "stream",
          "name": "stdout",
          "text": [
            "Class Distribution after SMOTE:\n",
            "0    113292\n",
            "4    113292\n",
            "2    113292\n",
            "3    113292\n",
            "1    113292\n",
            "Name: MCI_CATEGORY, dtype: int64\n"
          ]
        }
      ]
    },
    {
      "cell_type": "code",
      "source": [
        "# Update the training set\n",
        "data_train = pd.concat([X_train_resampled, y_train_resampled], axis=1)"
      ],
      "metadata": {
        "id": "Ckwuik3HDbdE"
      },
      "id": "Ckwuik3HDbdE",
      "execution_count": 41,
      "outputs": []
    },
    {
      "cell_type": "code",
      "source": [
        "# Plotting for balanced target variable on train set\n",
        "plt.figure(figsize=(6, 4))\n",
        "sns.countplot(data=data_train, x='MCI_CATEGORY')\n",
        "plt.title(\"Count of MCI_CATEGORY\")\n",
        "plt.show()"
      ],
      "metadata": {
        "colab": {
          "base_uri": "https://localhost:8080/",
          "height": 410
        },
        "id": "L9WKdObYB7Ys",
        "outputId": "0d6c812c-c52b-415a-bc98-e3107be6b41a"
      },
      "id": "L9WKdObYB7Ys",
      "execution_count": 42,
      "outputs": [
        {
          "output_type": "display_data",
          "data": {
            "text/plain": [
              "<Figure size 600x400 with 1 Axes>"
            ],
            "image/png": "[encoded data removed]"
          },
          "metadata": {}
        }
      ]
    },
    {
      "cell_type": "markdown",
      "source": [
        "***1. Decision Tree Classifier***"
      ],
      "metadata": {
        "id": "-EY4xeVONWjl"
      },
      "id": "-EY4xeVONWjl"
    },
    {
      "cell_type": "code",
      "source": [
        "## Training data\n",
        "dt_classifier = DecisionTreeClassifier()\n",
        "dt_classifier.fit(X_train_resampled, y_train_resampled)"
      ],
      "metadata": {
        "colab": {
          "base_uri": "https://localhost:8080/",
          "height": 75
        },
        "id": "6s7pZdq6Oi_m",
        "outputId": "7bc43c44-710d-4772-cb10-02a85a49a3e0"
      },
      "id": "6s7pZdq6Oi_m",
      "execution_count": 43,
      "outputs": [
        {
          "output_type": "execute_result",
          "data": {
            "text/plain": [
              "DecisionTreeClassifier()"
            ],
            "text/html": [
              "<style>#sk-container-id-1 {color: black;background-color: white;}#sk-container-id-1 pre{padding: 0;}#sk-container-id-1 div.sk-toggleable {background-color: white;}#sk-container-id-1 label.sk-toggleable__label {cursor: pointer;display: block;width: 100%;margin-bottom: 0;padding: 0.3em;box-sizing: border-box;text-align: center;}#sk-container-id-1 label.sk-toggleable__label-arrow:before {content: \"▸\";float: left;margin-right: 0.25em;color: #696969;}#sk-container-id-1 label.sk-toggleable__label-arrow:hover:before {color: black;}#sk-container-id-1 div.sk-estimator:hover label.sk-toggleable__label-arrow:before {color: black;}#sk-container-id-1 div.sk-toggleable__content {max-height: 0;max-width: 0;overflow: hidden;text-align: left;background-color: #f0f8ff;}#sk-container-id-1 div.sk-toggleable__content pre {margin: 0.2em;color: black;border-radius: 0.25em;background-color: #f0f8ff;}#sk-container-id-1 input.sk-toggleable__control:checked~div.sk-toggleable__content {max-height: 200px;max-width: 100%;overflow: auto;}#sk-container-id-1 input.sk-toggleable__control:checked~label.sk-toggleable__label-arrow:before {content: \"▾\";}#sk-container-id-1 div.sk-estimator input.sk-toggleable__control:checked~label.sk-toggleable__label {background-color: #d4ebff;}#sk-container-id-1 div.sk-label input.sk-toggleable__control:checked~label.sk-toggleable__label {background-color: #d4ebff;}#sk-container-id-1 input.sk-hidden--visually {border: 0;clip: rect(1px 1px 1px 1px);clip: rect(1px, 1px, 1px, 1px);height: 1px;margin: -1px;overflow: hidden;padding: 0;position: absolute;width: 1px;}#sk-container-id-1 div.sk-estimator {font-family: monospace;background-color: #f0f8ff;border: 1px dotted black;border-radius: 0.25em;box-sizing: border-box;margin-bottom: 0.5em;}#sk-container-id-1 div.sk-estimator:hover {background-color: #d4ebff;}#sk-container-id-1 div.sk-parallel-item::after {content: \"\";width: 100%;border-bottom: 1px solid gray;flex-grow: 1;}#sk-container-id-1 div.sk-label:hover label.sk-toggleable__label {background-color: #d4ebff;}#sk-container-id-1 div.sk-serial::before {content: \"\";position: absolute;border-left: 1px solid gray;box-sizing: border-box;top: 0;bottom: 0;left: 50%;z-index: 0;}#sk-container-id-1 div.sk-serial {display: flex;flex-direction: column;align-items: center;background-color: white;padding-right: 0.2em;padding-left: 0.2em;position: relative;}#sk-container-id-1 div.sk-item {position: relative;z-index: 1;}#sk-container-id-1 div.sk-parallel {display: flex;align-items: stretch;justify-content: center;background-color: white;position: relative;}#sk-container-id-1 div.sk-item::before, #sk-container-id-1 div.sk-parallel-item::before {content: \"\";position: absolute;border-left: 1px solid gray;box-sizing: border-box;top: 0;bottom: 0;left: 50%;z-index: -1;}#sk-container-id-1 div.sk-parallel-item {display: flex;flex-direction: column;z-index: 1;position: relative;background-color: white;}#sk-container-id-1 div.sk-parallel-item:first-child::after {align-self: flex-end;width: 50%;}#sk-container-id-1 div.sk-parallel-item:last-child::after {align-self: flex-start;width: 50%;}#sk-container-id-1 div.sk-parallel-item:only-child::after {width: 0;}#sk-container-id-1 div.sk-dashed-wrapped {border: 1px dashed gray;margin: 0 0.4em 0.5em 0.4em;box-sizing: border-box;padding-bottom: 0.4em;background-color: white;}#sk-container-id-1 div.sk-label label {font-family: monospace;font-weight: bold;display: inline-block;line-height: 1.2em;}#sk-container-id-1 div.sk-label-container {text-align: center;}#sk-container-id-1 div.sk-container {/* jupyter's `normalize.less` sets `[hidden] { display: none; }` but bootstrap.min.css set `[hidden] { display: none !important; }` so we also need the `!important` here to be able to override the default hidden behavior on the sphinx rendered scikit-learn.org. See: https://github.com/scikit-learn/scikit-learn/issues/21755 */display: inline-block !important;position: relative;}#sk-container-id-1 div.sk-text-repr-fallback {display: none;}</style><div id=\"sk-container-id-1\" class=\"sk-top-container\"><div class=\"sk-text-repr-fallback\"><pre>DecisionTreeClassifier()</pre><b>In a Jupyter environment, please rerun this cell to show the HTML representation or trust the notebook. <br />On GitHub, the HTML representation is unable to render, please try loading this page with nbviewer.org.</b></div><div class=\"sk-container\" hidden><div class=\"sk-item\"><div class=\"sk-estimator sk-toggleable\"><input class=\"sk-toggleable__control sk-hidden--visually\" id=\"sk-estimator-id-1\" type=\"checkbox\" checked><label for=\"sk-estimator-id-1\" class=\"sk-toggleable__label sk-toggleable__label-arrow\">DecisionTreeClassifier</label><div class=\"sk-toggleable__content\"><pre>DecisionTreeClassifier()</pre></div></div></div></div></div>"
            ]
          },
          "metadata": {},
          "execution_count": 43
        }
      ]
    },
    {
      "cell_type": "code",
      "source": [
        "# Making predictions\n",
        "y_pred_train_dt = dt_classifier.predict(X_train_resampled)\n",
        "y_pred_test_dt = dt_classifier.predict(X_test)"
      ],
      "metadata": {
        "id": "wcdfcvy9o_-3"
      },
      "id": "wcdfcvy9o_-3",
      "execution_count": 44,
      "outputs": []
    },
    {
      "cell_type": "code",
      "source": [
        "# Evaluating the model\n",
        "train_accuracy_dt = accuracy_score(y_train_resampled, y_pred_train_dt)\n",
        "test_accuracy_dt = accuracy_score(y_test, y_pred_test_dt)\n",
        "\n",
        "print(\"Training Accuracy:\", train_accuracy_dt)\n",
        "print(\"Test Accuracy:\", test_accuracy_dt)"
      ],
      "metadata": {
        "colab": {
          "base_uri": "https://localhost:8080/"
        },
        "id": "AX3AJNbUpLS1",
        "outputId": "5a7ab0ec-8303-473e-8e5a-ebb29675c84f"
      },
      "id": "AX3AJNbUpLS1",
      "execution_count": 45,
      "outputs": [
        {
          "output_type": "stream",
          "name": "stdout",
          "text": [
            "Training Accuracy: 1.0\n",
            "Test Accuracy: 1.0\n"
          ]
        }
      ]
    },
    {
      "cell_type": "code",
      "source": [
        "# Confusion metrics for Decision Tree classifier\n",
        "cm_dt = metrics.confusion_matrix(y_test, y_pred_test_dt)\n",
        "cm_dt"
      ],
      "metadata": {
        "colab": {
          "base_uri": "https://localhost:8080/"
        },
        "id": "alHjkmGVpyl0",
        "outputId": "b8f17486-e57c-414c-a6d8-493755fba7df"
      },
      "id": "alHjkmGVpyl0",
      "execution_count": 46,
      "outputs": [
        {
          "output_type": "execute_result",
          "data": {
            "text/plain": [
              "array([[48847,     0,     0,     0,     0],\n",
              "       [    0, 15581,     0,     0,     0],\n",
              "       [    0,     0, 20298,     0,     0],\n",
              "       [    0,     0,     0,  7410,     0],\n",
              "       [    0,     0,     0,     0,  3461]])"
            ]
          },
          "metadata": {},
          "execution_count": 46
        }
      ]
    },
    {
      "cell_type": "code",
      "source": [
        "plt.figure(figsize=(5,5))\n",
        "sns.heatmap(cm_dt, annot=True, fmt='0.0f', linewidths=0.5,\n",
        "            square=True, cbar=False, cmap='Blues')\n",
        "plt.title('Confusion Matrix for Decision Tree Model')\n",
        "plt.ylabel('Actual Values')\n",
        "plt.xlabel('Predicted Values')\n",
        "plt.show()"
      ],
      "metadata": {
        "colab": {
          "base_uri": "https://localhost:8080/",
          "height": 487
        },
        "id": "TlYYGzmdmhBX",
        "outputId": "5e26b065-0ef3-4bf8-ade1-1a9010441c1a"
      },
      "id": "TlYYGzmdmhBX",
      "execution_count": 47,
      "outputs": [
        {
          "output_type": "display_data",
          "data": {
            "text/plain": [
              "<Figure size 500x500 with 1 Axes>"
            ],
            "image/png": "[encoded data removed]"
          },
          "metadata": {}
        }
      ]
    },
    {
      "cell_type": "code",
      "source": [
        "# Precision, Recall and F1 metrics for Decision Tree Classifier\n",
        "print(\"Metrics for Decision Tree Algorithm:\")\n",
        "print(metrics.classification_report(y_test, y_pred_test_dt))"
      ],
      "metadata": {
        "colab": {
          "base_uri": "https://localhost:8080/"
        },
        "id": "te7YCogCjDzg",
        "outputId": "44b8780b-e4cb-4de0-f528-44365081e57a"
      },
      "id": "te7YCogCjDzg",
      "execution_count": 48,
      "outputs": [
        {
          "output_type": "stream",
          "name": "stdout",
          "text": [
            "Metrics for Decision Tree Algorithm:\n",
            "              precision    recall  f1-score   support\n",
            "\n",
            "           0       1.00      1.00      1.00     48847\n",
            "           1       1.00      1.00      1.00     15581\n",
            "           2       1.00      1.00      1.00     20298\n",
            "           3       1.00      1.00      1.00      7410\n",
            "           4       1.00      1.00      1.00      3461\n",
            "\n",
            "    accuracy                           1.00     95597\n",
            "   macro avg       1.00      1.00      1.00     95597\n",
            "weighted avg       1.00      1.00      1.00     95597\n",
            "\n"
          ]
        }
      ]
    },
    {
      "cell_type": "markdown",
      "source": [
        "***2. KNN Classifier***"
      ],
      "metadata": {
        "id": "xN9QHgl4r5f3"
      },
      "id": "xN9QHgl4r5f3"
    },
    {
      "cell_type": "code",
      "source": [
        "## KNN classifier\n",
        "knn_classifier = KNeighborsClassifier(n_neighbors=5)\n",
        "knn_classifier.fit(X_train_resampled, y_train_resampled)"
      ],
      "metadata": {
        "colab": {
          "base_uri": "https://localhost:8080/",
          "height": 75
        },
        "id": "vBmJMfkMsjGx",
        "outputId": "67810c9f-056a-4dd3-dc72-9e8e4e8c13c9"
      },
      "id": "vBmJMfkMsjGx",
      "execution_count": 49,
      "outputs": [
        {
          "output_type": "execute_result",
          "data": {
            "text/plain": [
              "KNeighborsClassifier()"
            ],
            "text/html": [
              "<style>#sk-container-id-2 {color: black;background-color: white;}#sk-container-id-2 pre{padding: 0;}#sk-container-id-2 div.sk-toggleable {background-color: white;}#sk-container-id-2 label.sk-toggleable__label {cursor: pointer;display: block;width: 100%;margin-bottom: 0;padding: 0.3em;box-sizing: border-box;text-align: center;}#sk-container-id-2 label.sk-toggleable__label-arrow:before {content: \"▸\";float: left;margin-right: 0.25em;color: #696969;}#sk-container-id-2 label.sk-toggleable__label-arrow:hover:before {color: black;}#sk-container-id-2 div.sk-estimator:hover label.sk-toggleable__label-arrow:before {color: black;}#sk-container-id-2 div.sk-toggleable__content {max-height: 0;max-width: 0;overflow: hidden;text-align: left;background-color: #f0f8ff;}#sk-container-id-2 div.sk-toggleable__content pre {margin: 0.2em;color: black;border-radius: 0.25em;background-color: #f0f8ff;}#sk-container-id-2 input.sk-toggleable__control:checked~div.sk-toggleable__content {max-height: 200px;max-width: 100%;overflow: auto;}#sk-container-id-2 input.sk-toggleable__control:checked~label.sk-toggleable__label-arrow:before {content: \"▾\";}#sk-container-id-2 div.sk-estimator input.sk-toggleable__control:checked~label.sk-toggleable__label {background-color: #d4ebff;}#sk-container-id-2 div.sk-label input.sk-toggleable__control:checked~label.sk-toggleable__label {background-color: #d4ebff;}#sk-container-id-2 input.sk-hidden--visually {border: 0;clip: rect(1px 1px 1px 1px);clip: rect(1px, 1px, 1px, 1px);height: 1px;margin: -1px;overflow: hidden;padding: 0;position: absolute;width: 1px;}#sk-container-id-2 div.sk-estimator {font-family: monospace;background-color: #f0f8ff;border: 1px dotted black;border-radius: 0.25em;box-sizing: border-box;margin-bottom: 0.5em;}#sk-container-id-2 div.sk-estimator:hover {background-color: #d4ebff;}#sk-container-id-2 div.sk-parallel-item::after {content: \"\";width: 100%;border-bottom: 1px solid gray;flex-grow: 1;}#sk-container-id-2 div.sk-label:hover label.sk-toggleable__label {background-color: #d4ebff;}#sk-container-id-2 div.sk-serial::before {content: \"\";position: absolute;border-left: 1px solid gray;box-sizing: border-box;top: 0;bottom: 0;left: 50%;z-index: 0;}#sk-container-id-2 div.sk-serial {display: flex;flex-direction: column;align-items: center;background-color: white;padding-right: 0.2em;padding-left: 0.2em;position: relative;}#sk-container-id-2 div.sk-item {position: relative;z-index: 1;}#sk-container-id-2 div.sk-parallel {display: flex;align-items: stretch;justify-content: center;background-color: white;position: relative;}#sk-container-id-2 div.sk-item::before, #sk-container-id-2 div.sk-parallel-item::before {content: \"\";position: absolute;border-left: 1px solid gray;box-sizing: border-box;top: 0;bottom: 0;left: 50%;z-index: -1;}#sk-container-id-2 div.sk-parallel-item {display: flex;flex-direction: column;z-index: 1;position: relative;background-color: white;}#sk-container-id-2 div.sk-parallel-item:first-child::after {align-self: flex-end;width: 50%;}#sk-container-id-2 div.sk-parallel-item:last-child::after {align-self: flex-start;width: 50%;}#sk-container-id-2 div.sk-parallel-item:only-child::after {width: 0;}#sk-container-id-2 div.sk-dashed-wrapped {border: 1px dashed gray;margin: 0 0.4em 0.5em 0.4em;box-sizing: border-box;padding-bottom: 0.4em;background-color: white;}#sk-container-id-2 div.sk-label label {font-family: monospace;font-weight: bold;display: inline-block;line-height: 1.2em;}#sk-container-id-2 div.sk-label-container {text-align: center;}#sk-container-id-2 div.sk-container {/* jupyter's `normalize.less` sets `[hidden] { display: none; }` but bootstrap.min.css set `[hidden] { display: none !important; }` so we also need the `!important` here to be able to override the default hidden behavior on the sphinx rendered scikit-learn.org. See: https://github.com/scikit-learn/scikit-learn/issues/21755 */display: inline-block !important;position: relative;}#sk-container-id-2 div.sk-text-repr-fallback {display: none;}</style><div id=\"sk-container-id-2\" class=\"sk-top-container\"><div class=\"sk-text-repr-fallback\"><pre>KNeighborsClassifier()</pre><b>In a Jupyter environment, please rerun this cell to show the HTML representation or trust the notebook. <br />On GitHub, the HTML representation is unable to render, please try loading this page with nbviewer.org.</b></div><div class=\"sk-container\" hidden><div class=\"sk-item\"><div class=\"sk-estimator sk-toggleable\"><input class=\"sk-toggleable__control sk-hidden--visually\" id=\"sk-estimator-id-2\" type=\"checkbox\" checked><label for=\"sk-estimator-id-2\" class=\"sk-toggleable__label sk-toggleable__label-arrow\">KNeighborsClassifier</label><div class=\"sk-toggleable__content\"><pre>KNeighborsClassifier()</pre></div></div></div></div></div>"
            ]
          },
          "metadata": {},
          "execution_count": 49
        }
      ]
    },
    {
      "cell_type": "code",
      "source": [
        "# Making predictions\n",
        "y_pred_train_knn = knn_classifier.predict(X_train_resampled)\n",
        "y_pred_test_knn = knn_classifier.predict(X_test)"
      ],
      "metadata": {
        "id": "r_qKOZIrsi7a"
      },
      "id": "r_qKOZIrsi7a",
      "execution_count": 50,
      "outputs": []
    },
    {
      "cell_type": "code",
      "source": [
        "# Evaluating the model\n",
        "train_accuracy_knn = accuracy_score(y_train_resampled, y_pred_train_knn)\n",
        "test_accuracy_knn = accuracy_score(y_test, y_pred_test_knn)\n",
        "\n",
        "print(\"Training Accuracy:\", train_accuracy_knn)\n",
        "print(\"Test Accuracy:\", test_accuracy_knn)"
      ],
      "metadata": {
        "colab": {
          "base_uri": "https://localhost:8080/"
        },
        "id": "sOIld4ncsiwe",
        "outputId": "910a47e3-94a2-4fc8-f2d1-849e0929e1da"
      },
      "id": "sOIld4ncsiwe",
      "execution_count": 51,
      "outputs": [
        {
          "output_type": "stream",
          "name": "stdout",
          "text": [
            "Training Accuracy: 0.8909313985100449\n",
            "Test Accuracy: 0.7351904348462818\n"
          ]
        }
      ]
    },
    {
      "cell_type": "code",
      "source": [
        "# Confusion metrics for KNN classifier\n",
        "cm_knn = metrics.confusion_matrix(y_test, y_pred_test_knn)\n",
        "cm_knn"
      ],
      "metadata": {
        "colab": {
          "base_uri": "https://localhost:8080/"
        },
        "id": "FjVG_uh2sij_",
        "outputId": "d564edb9-c3f8-4c80-ceaf-245f5b3fe833"
      },
      "id": "FjVG_uh2sij_",
      "execution_count": 52,
      "outputs": [
        {
          "output_type": "execute_result",
          "data": {
            "text/plain": [
              "array([[42646,  1560,  2750,  1478,   413],\n",
              "       [  897,  9863,  2864,   722,  1235],\n",
              "       [ 1304,  2823, 12697,  2293,  1181],\n",
              "       [  608,   594,  1935,  4038,   235],\n",
              "       [  178,   908,  1110,   227,  1038]])"
            ]
          },
          "metadata": {},
          "execution_count": 52
        }
      ]
    },
    {
      "cell_type": "code",
      "source": [
        "plt.figure(figsize=(5,5))\n",
        "sns.heatmap(cm_knn, annot=True, fmt='0.0f', linewidths=0.5,\n",
        "            square=True, cbar=False, cmap='Blues')\n",
        "plt.title('Confusion Matrix for KNN Model')\n",
        "plt.ylabel('Actual Values')\n",
        "plt.xlabel('Predicted Values')\n",
        "plt.show()"
      ],
      "metadata": {
        "colab": {
          "base_uri": "https://localhost:8080/",
          "height": 487
        },
        "id": "hyjaU0fDsiYS",
        "outputId": "dba0f5ab-cf58-40b0-92ea-464175efa93c"
      },
      "id": "hyjaU0fDsiYS",
      "execution_count": 54,
      "outputs": [
        {
          "output_type": "display_data",
          "data": {
            "text/plain": [
              "<Figure size 500x500 with 1 Axes>"
            ],
            "image/png": "[encoded data removed]"
          },
          "metadata": {}
        }
      ]
    },
    {
      "cell_type": "code",
      "source": [
        "# Precision, recall and F1 metrics for KNN classifier\n",
        "print(\"Metrics for KNN Algorithm:\")\n",
        "print(metrics.classification_report(y_test, y_pred_test_knn))"
      ],
      "metadata": {
        "colab": {
          "base_uri": "https://localhost:8080/"
        },
        "id": "rzqba1HLs47C",
        "outputId": "41cc5491-6235-4289-d1b7-d7d7eb66d1b7"
      },
      "id": "rzqba1HLs47C",
      "execution_count": 55,
      "outputs": [
        {
          "output_type": "stream",
          "name": "stdout",
          "text": [
            "Metrics for KNN Algorithm:\n",
            "              precision    recall  f1-score   support\n",
            "\n",
            "           0       0.93      0.87      0.90     48847\n",
            "           1       0.63      0.63      0.63     15581\n",
            "           2       0.59      0.63      0.61     20298\n",
            "           3       0.46      0.54      0.50      7410\n",
            "           4       0.25      0.30      0.27      3461\n",
            "\n",
            "    accuracy                           0.74     95597\n",
            "   macro avg       0.57      0.60      0.58     95597\n",
            "weighted avg       0.75      0.74      0.74     95597\n",
            "\n"
          ]
        }
      ]
    },
    {
      "cell_type": "markdown",
      "source": [
        "***3. Naive Bayes Classifier***"
      ],
      "metadata": {
        "id": "DbRzxD8bthWa"
      },
      "id": "DbRzxD8bthWa"
    },
    {
      "cell_type": "code",
      "source": [
        "# Naive Bayes classifier\n",
        "nb_classifier = GaussianNB()\n",
        "nb_classifier.fit(X_train_resampled, y_train_resampled)"
      ],
      "metadata": {
        "colab": {
          "base_uri": "https://localhost:8080/",
          "height": 75
        },
        "id": "lw3KrQpds__m",
        "outputId": "45f19e9f-8f47-4e4f-ac5c-1ada21f2dea8"
      },
      "id": "lw3KrQpds__m",
      "execution_count": 57,
      "outputs": [
        {
          "output_type": "execute_result",
          "data": {
            "text/plain": [
              "GaussianNB()"
            ],
            "text/html": [
              "<style>#sk-container-id-4 {color: black;background-color: white;}#sk-container-id-4 pre{padding: 0;}#sk-container-id-4 div.sk-toggleable {background-color: white;}#sk-container-id-4 label.sk-toggleable__label {cursor: pointer;display: block;width: 100%;margin-bottom: 0;padding: 0.3em;box-sizing: border-box;text-align: center;}#sk-container-id-4 label.sk-toggleable__label-arrow:before {content: \"▸\";float: left;margin-right: 0.25em;color: #696969;}#sk-container-id-4 label.sk-toggleable__label-arrow:hover:before {color: black;}#sk-container-id-4 div.sk-estimator:hover label.sk-toggleable__label-arrow:before {color: black;}#sk-container-id-4 div.sk-toggleable__content {max-height: 0;max-width: 0;overflow: hidden;text-align: left;background-color: #f0f8ff;}#sk-container-id-4 div.sk-toggleable__content pre {margin: 0.2em;color: black;border-radius: 0.25em;background-color: #f0f8ff;}#sk-container-id-4 input.sk-toggleable__control:checked~div.sk-toggleable__content {max-height: 200px;max-width: 100%;overflow: auto;}#sk-container-id-4 input.sk-toggleable__control:checked~label.sk-toggleable__label-arrow:before {content: \"▾\";}#sk-container-id-4 div.sk-estimator input.sk-toggleable__control:checked~label.sk-toggleable__label {background-color: #d4ebff;}#sk-container-id-4 div.sk-label input.sk-toggleable__control:checked~label.sk-toggleable__label {background-color: #d4ebff;}#sk-container-id-4 input.sk-hidden--visually {border: 0;clip: rect(1px 1px 1px 1px);clip: rect(1px, 1px, 1px, 1px);height: 1px;margin: -1px;overflow: hidden;padding: 0;position: absolute;width: 1px;}#sk-container-id-4 div.sk-estimator {font-family: monospace;background-color: #f0f8ff;border: 1px dotted black;border-radius: 0.25em;box-sizing: border-box;margin-bottom: 0.5em;}#sk-container-id-4 div.sk-estimator:hover {background-color: #d4ebff;}#sk-container-id-4 div.sk-parallel-item::after {content: \"\";width: 100%;border-bottom: 1px solid gray;flex-grow: 1;}#sk-container-id-4 div.sk-label:hover label.sk-toggleable__label {background-color: #d4ebff;}#sk-container-id-4 div.sk-serial::before {content: \"\";position: absolute;border-left: 1px solid gray;box-sizing: border-box;top: 0;bottom: 0;left: 50%;z-index: 0;}#sk-container-id-4 div.sk-serial {display: flex;flex-direction: column;align-items: center;background-color: white;padding-right: 0.2em;padding-left: 0.2em;position: relative;}#sk-container-id-4 div.sk-item {position: relative;z-index: 1;}#sk-container-id-4 div.sk-parallel {display: flex;align-items: stretch;justify-content: center;background-color: white;position: relative;}#sk-container-id-4 div.sk-item::before, #sk-container-id-4 div.sk-parallel-item::before {content: \"\";position: absolute;border-left: 1px solid gray;box-sizing: border-box;top: 0;bottom: 0;left: 50%;z-index: -1;}#sk-container-id-4 div.sk-parallel-item {display: flex;flex-direction: column;z-index: 1;position: relative;background-color: white;}#sk-container-id-4 div.sk-parallel-item:first-child::after {align-self: flex-end;width: 50%;}#sk-container-id-4 div.sk-parallel-item:last-child::after {align-self: flex-start;width: 50%;}#sk-container-id-4 div.sk-parallel-item:only-child::after {width: 0;}#sk-container-id-4 div.sk-dashed-wrapped {border: 1px dashed gray;margin: 0 0.4em 0.5em 0.4em;box-sizing: border-box;padding-bottom: 0.4em;background-color: white;}#sk-container-id-4 div.sk-label label {font-family: monospace;font-weight: bold;display: inline-block;line-height: 1.2em;}#sk-container-id-4 div.sk-label-container {text-align: center;}#sk-container-id-4 div.sk-container {/* jupyter's `normalize.less` sets `[hidden] { display: none; }` but bootstrap.min.css set `[hidden] { display: none !important; }` so we also need the `!important` here to be able to override the default hidden behavior on the sphinx rendered scikit-learn.org. See: https://github.com/scikit-learn/scikit-learn/issues/21755 */display: inline-block !important;position: relative;}#sk-container-id-4 div.sk-text-repr-fallback {display: none;}</style><div id=\"sk-container-id-4\" class=\"sk-top-container\"><div class=\"sk-text-repr-fallback\"><pre>GaussianNB()</pre><b>In a Jupyter environment, please rerun this cell to show the HTML representation or trust the notebook. <br />On GitHub, the HTML representation is unable to render, please try loading this page with nbviewer.org.</b></div><div class=\"sk-container\" hidden><div class=\"sk-item\"><div class=\"sk-estimator sk-toggleable\"><input class=\"sk-toggleable__control sk-hidden--visually\" id=\"sk-estimator-id-4\" type=\"checkbox\" checked><label for=\"sk-estimator-id-4\" class=\"sk-toggleable__label sk-toggleable__label-arrow\">GaussianNB</label><div class=\"sk-toggleable__content\"><pre>GaussianNB()</pre></div></div></div></div></div>"
            ]
          },
          "metadata": {},
          "execution_count": 57
        }
      ]
    },
    {
      "cell_type": "code",
      "source": [
        "# Making predictions\n",
        "y_pred_train_nb = nb_classifier.predict(X_train_resampled)\n",
        "y_pred_test_nb = nb_classifier.predict(X_test)"
      ],
      "metadata": {
        "id": "ybfuPgc3s_1-"
      },
      "id": "ybfuPgc3s_1-",
      "execution_count": 58,
      "outputs": []
    },
    {
      "cell_type": "code",
      "source": [
        "# Evaluating the model\n",
        "train_accuracy_nb = accuracy_score(y_train_resampled, y_pred_train_nb)\n",
        "test_accuracy_nb = accuracy_score(y_test, y_pred_test_nb)\n",
        "\n",
        "print(\"Training Accuracy:\", train_accuracy_nb)\n",
        "print(\"Test Accuracy:\", test_accuracy_nb)"
      ],
      "metadata": {
        "colab": {
          "base_uri": "https://localhost:8080/"
        },
        "id": "OJ-mwM4Cs_y_",
        "outputId": "d6b84236-41fa-4547-86e2-c64f3d233ada"
      },
      "id": "OJ-mwM4Cs_y_",
      "execution_count": 59,
      "outputs": [
        {
          "output_type": "stream",
          "name": "stdout",
          "text": [
            "Training Accuracy: 0.9945715496239805\n",
            "Test Accuracy: 0.9908469931064783\n"
          ]
        }
      ]
    },
    {
      "cell_type": "code",
      "source": [
        "# Confusion metrics for KNN classifier\n",
        "cm_nb = metrics.confusion_matrix(y_test, y_pred_test_nb)\n",
        "cm_nb"
      ],
      "metadata": {
        "colab": {
          "base_uri": "https://localhost:8080/"
        },
        "id": "W8VbU_iatrgg",
        "outputId": "e10299fb-7489-4a33-e8ab-2949caba5070"
      },
      "id": "W8VbU_iatrgg",
      "execution_count": 60,
      "outputs": [
        {
          "output_type": "execute_result",
          "data": {
            "text/plain": [
              "array([[48069,     0,     0,   778,     0],\n",
              "       [    0, 15581,     0,     0,     0],\n",
              "       [    0,     0, 20295,     0,     3],\n",
              "       [    0,     0,     1,  7409,     0],\n",
              "       [    0,    93,     0,     0,  3368]])"
            ]
          },
          "metadata": {},
          "execution_count": 60
        }
      ]
    },
    {
      "cell_type": "code",
      "source": [
        "plt.figure(figsize=(5,5))\n",
        "sns.heatmap(cm_nb, annot=True, fmt='0.0f', linewidths=0.5,\n",
        "            square=True, cbar=False, cmap='Blues')\n",
        "plt.title('Confusion Matrix for Naive Bayes Model')\n",
        "plt.ylabel('Actual Values')\n",
        "plt.xlabel('Predicted Values')\n",
        "plt.show()"
      ],
      "metadata": {
        "colab": {
          "base_uri": "https://localhost:8080/",
          "height": 487
        },
        "id": "Uy0-LVUYtrcT",
        "outputId": "79aa03f2-e5c6-4c9f-beef-b076af49bc81"
      },
      "id": "Uy0-LVUYtrcT",
      "execution_count": 61,
      "outputs": [
        {
          "output_type": "display_data",
          "data": {
            "text/plain": [
              "<Figure size 500x500 with 1 Axes>"
            ],
            "image/png": "[encoded data removed]"
          },
          "metadata": {}
        }
      ]
    },
    {
      "cell_type": "code",
      "source": [
        "# Precision, recall and F1 metrics for KNN classifier\n",
        "print(\"Metrics for Naive Bayes Algorithm:\")\n",
        "print(metrics.classification_report(y_test, y_pred_test_nb))"
      ],
      "metadata": {
        "colab": {
          "base_uri": "https://localhost:8080/"
        },
        "id": "tVw5AaeOtrRn",
        "outputId": "accf21d9-a09b-4fd2-cdbc-0ac57115ef53"
      },
      "id": "tVw5AaeOtrRn",
      "execution_count": 62,
      "outputs": [
        {
          "output_type": "stream",
          "name": "stdout",
          "text": [
            "Metrics for Naive Bayes Algorithm:\n",
            "              precision    recall  f1-score   support\n",
            "\n",
            "           0       1.00      0.98      0.99     48847\n",
            "           1       0.99      1.00      1.00     15581\n",
            "           2       1.00      1.00      1.00     20298\n",
            "           3       0.90      1.00      0.95      7410\n",
            "           4       1.00      0.97      0.99      3461\n",
            "\n",
            "    accuracy                           0.99     95597\n",
            "   macro avg       0.98      0.99      0.98     95597\n",
            "weighted avg       0.99      0.99      0.99     95597\n",
            "\n"
          ]
        }
      ]
    },
    {
      "cell_type": "markdown",
      "source": [
        "**4. Implementing Models Using Crossing Validation**"
      ],
      "metadata": {
        "id": "nhBgEOU5IBgf"
      },
      "id": "nhBgEOU5IBgf"
    },
    {
      "cell_type": "code",
      "source": [
        "# Initializing classifiers\n",
        "classifiers = {\n",
        "    'Decision Tree': DecisionTreeClassifier(),\n",
        "    'KNN': KNeighborsClassifier(),\n",
        "    'Naive Bayes': GaussianNB(),\n",
        "}\n",
        "\n",
        "# Building Loop through each classifier\n",
        "for name, clf in classifiers.items():\n",
        "    cv_scores = cross_val_score(clf, X_train_resampled, y_train_resampled, cv=10)\n",
        "\n",
        "    clf.fit(X_train_resampled, y_train_resampled)\n",
        "\n",
        "    test_score = clf.score(X_test, y_test)\n",
        "\n",
        "\n",
        "    print(f\"Classifier: {name}\")\n",
        "    print(\"Cross-validation scores on training set:\", cv_scores)\n",
        "    print(\"Mean cross-validation score on training set:\", np.mean(cv_scores))\n",
        "    print(\"Accuracy on test set:\", test_score)\n",
        "    print()"
      ],
      "metadata": {
        "colab": {
          "base_uri": "https://localhost:8080/"
        },
        "id": "VQGAhwKsIAoI",
        "outputId": "e40b7a1f-007b-4af4-f03f-aa8b1cac5b1d"
      },
      "id": "VQGAhwKsIAoI",
      "execution_count": 63,
      "outputs": [
        {
          "output_type": "stream",
          "name": "stdout",
          "text": [
            "Classifier: Decision Tree\n",
            "Cross-validation scores on training set: [1. 1. 1. 1. 1. 1. 1. 1. 1. 1.]\n",
            "Mean cross-validation score on training set: 1.0\n",
            "Accuracy on test set: 1.0\n",
            "\n",
            "Classifier: KNN\n",
            "Cross-validation scores on training set: [0.75378668 0.79294213 0.80191011 0.81520319 0.83328037 0.83677577\n",
            " 0.8359637  0.83504572 0.84030646 0.83532818]\n",
            "Mean cross-validation score on training set: 0.8180542315432687\n",
            "Accuracy on test set: 0.7351904348462818\n",
            "\n",
            "Classifier: Naive Bayes\n",
            "Cross-validation scores on training set: [0.99069661 0.99493345 0.99496875 0.9952159  0.99488049 0.9946863\n",
            " 0.99533948 0.99459803 0.99482753 0.99484518]\n",
            "Mean cross-validation score on training set: 0.9944991702856336\n",
            "Accuracy on test set: 0.9908469931064783\n",
            "\n"
          ]
        }
      ]
    },
    {
      "cell_type": "code",
      "source": [
        "models = {\n",
        "    'Decision Tree': DecisionTreeClassifier(),\n",
        "    'KNN': KNeighborsClassifier(),\n",
        "    'Naive Bayes': GaussianNB()\n",
        "}\n",
        "\n",
        "mean_accuracy = []\n",
        "\n",
        "for name, model in models.items():\n",
        "    scores = cross_val_score(model, X_test, y_test, cv=5, scoring='accuracy')\n",
        "    mean_accuracy.append(scores.mean())\n",
        "\n",
        "# Plotting mean accuracy\n",
        "plt.figure(figsize=(8, 4))\n",
        "plt.bar(models.keys(), mean_accuracy, capsize=5)\n",
        "plt.xlabel('Model')\n",
        "plt.ylabel('Mean Accuracy')\n",
        "plt.xticks(rotation=45)\n",
        "plt.show()"
      ],
      "metadata": {
        "colab": {
          "base_uri": "https://localhost:8080/",
          "height": 449
        },
        "id": "a2bCTIFMIAjr",
        "outputId": "f5ee00a7-3470-4e0c-ea84-e2dfea01a630"
      },
      "id": "a2bCTIFMIAjr",
      "execution_count": 68,
      "outputs": [
        {
          "output_type": "display_data",
          "data": {
            "text/plain": [
              "<Figure size 800x400 with 1 Axes>"
            ],
            "image/png": "[encoded data removed]"
          },
          "metadata": {}
        }
      ]
    },
    {
      "cell_type": "code",
      "source": [
        "# Initializing classifiers\n",
        "classifiers = {\n",
        "    'Decision Tree': DecisionTreeClassifier(),\n",
        "    'KNN': KNeighborsClassifier(),\n",
        "    'Naive Bayes': GaussianNB()\n",
        "}\n",
        "\n",
        "for name, clf in classifiers.items():\n",
        "    clf.fit(X_train_resampled, y_train_resampled)\n",
        "\n",
        "    y_pred = clf.predict(X_test)\n",
        "\n",
        "    report = classification_report(y_test, y_pred)\n",
        "\n",
        "    print(f\"Classifier: {name}\")\n",
        "    print(report)\n",
        "    print()"
      ],
      "metadata": {
        "colab": {
          "base_uri": "https://localhost:8080/"
        },
        "id": "FHCMRY5rJbz4",
        "outputId": "4213887b-43f2-41f2-b2de-b6f4e7656a7a"
      },
      "id": "FHCMRY5rJbz4",
      "execution_count": 67,
      "outputs": [
        {
          "output_type": "stream",
          "name": "stdout",
          "text": [
            "Classifier: Decision Tree\n",
            "              precision    recall  f1-score   support\n",
            "\n",
            "           0       1.00      1.00      1.00     48847\n",
            "           1       1.00      1.00      1.00     15581\n",
            "           2       1.00      1.00      1.00     20298\n",
            "           3       1.00      1.00      1.00      7410\n",
            "           4       1.00      1.00      1.00      3461\n",
            "\n",
            "    accuracy                           1.00     95597\n",
            "   macro avg       1.00      1.00      1.00     95597\n",
            "weighted avg       1.00      1.00      1.00     95597\n",
            "\n",
            "\n",
            "Classifier: KNN\n",
            "              precision    recall  f1-score   support\n",
            "\n",
            "           0       0.93      0.87      0.90     48847\n",
            "           1       0.63      0.63      0.63     15581\n",
            "           2       0.59      0.63      0.61     20298\n",
            "           3       0.46      0.54      0.50      7410\n",
            "           4       0.25      0.30      0.27      3461\n",
            "\n",
            "    accuracy                           0.74     95597\n",
            "   macro avg       0.57      0.60      0.58     95597\n",
            "weighted avg       0.75      0.74      0.74     95597\n",
            "\n",
            "\n",
            "Classifier: Naive Bayes\n",
            "              precision    recall  f1-score   support\n",
            "\n",
            "           0       1.00      0.98      0.99     48847\n",
            "           1       0.99      1.00      1.00     15581\n",
            "           2       1.00      1.00      1.00     20298\n",
            "           3       0.90      1.00      0.95      7410\n",
            "           4       1.00      0.97      0.99      3461\n",
            "\n",
            "    accuracy                           0.99     95597\n",
            "   macro avg       0.98      0.99      0.98     95597\n",
            "weighted avg       0.99      0.99      0.99     95597\n",
            "\n",
            "\n"
          ]
        }
      ]
    },
    {
      "cell_type": "markdown",
      "source": [
        "**5. Splitting train and test sets from the beginning**"
      ],
      "metadata": {
        "id": "ztZh9JjgpnW8"
      },
      "id": "ztZh9JjgpnW8"
    },
    {
      "cell_type": "code",
      "source": [
        "# Uploading AGAIN the selected dataset for this project\n",
        "data = pd.read_csv('Major_Crime_Indicators_Open_Data.csv')"
      ],
      "metadata": {
        "id": "mr17quHipQfC"
      },
      "id": "mr17quHipQfC",
      "execution_count": 69,
      "outputs": []
    },
    {
      "cell_type": "code",
      "source": [
        "# Converting target variable to category type variable\n",
        "data.MCI_CATEGORY = data.MCI_CATEGORY.astype('category')\n",
        "# Removing duplicate rows from the dataset\n",
        "data.drop_duplicates(subset = ['EVENT_UNIQUE_ID'], inplace = True)\n",
        "# Omitting missing values\n",
        "data.dropna(inplace=True)\n",
        "# Dropping rows containing years of crime occurrence from 2000 to 2013\n",
        "drop_rows = data['OCC_YEAR'].isin([2000, 2001, 2002, 2003, 2004, 2005, 2006, 2007, 2008, 2009, 2010, 2011, 2012, 2013])\n",
        "data.drop(data[drop_rows].index, inplace=True)\n",
        "# Dropping NSA from HOOD_158 and NEIGHBOURHOOD_158\n",
        "filtered_indices = data[(data['HOOD_158'] == 'NSA') | (data['NEIGHBOURHOOD_158'] == 'NSA')].index\n",
        "data.drop(filtered_indices, inplace=True)"
      ],
      "metadata": {
        "id": "9MpSK5kmqNXR"
      },
      "id": "9MpSK5kmqNXR",
      "execution_count": 70,
      "outputs": []
    },
    {
      "cell_type": "code",
      "source": [
        "# Applying train-test_split\n",
        "seed = 42\n",
        "target_var = 'MCI_CATEGORY'\n",
        "predictors = data.columns[data.columns != target_var]\n",
        "X_train, X_test, y_train, y_test = train_test_split(data.loc[:,predictors], data[target_var], random_state = seed, test_size = 0.30)"
      ],
      "metadata": {
        "id": "EszPSXLVrLM4"
      },
      "id": "EszPSXLVrLM4",
      "execution_count": 71,
      "outputs": []
    },
    {
      "cell_type": "code",
      "source": [
        "# Cleaning dataset based on previous step DATA CLEANING AND PRE-PROCESSING & FEATURE SELECTION\n",
        "def clean_data(data):\n",
        "  attributes_to_drop = ['OBJECTID', 'EVENT_UNIQUE_ID', 'OFFENCE', 'LOCATION_TYPE', 'LAT_WGS84', 'LONG_WGS84', 'NEIGHBOURHOOD_140',\n",
        "                        'HOOD_140', 'REPORT_HOUR', 'DIVISION', 'OCC_DATE', 'REPORT_DATE', 'REPORT_YEAR', 'REPORT_DOY', 'REPORT_DOW',\n",
        "                        'OCC_DOW', 'OCC_DAY', 'REPORT_MONTH', 'OCC_DOY', 'OCC_MONTH', 'REPORT_DAY', 'UCR_EXT']\n",
        "  data.drop(columns = attributes_to_drop, inplace = True)\n",
        "  # Encoding categorical variables\n",
        "  categorical_columns = ['UCR_CODE', 'PREMISES_TYPE', 'NEIGHBOURHOOD_158', 'HOOD_158', 'OCC_HOUR', 'OCC_YEAR']\n",
        "  label_encoder = LabelEncoder()\n",
        "  for column in categorical_columns:\n",
        "      data[column] = label_encoder.fit_transform(data[column])\n",
        "  return data\n",
        "\n",
        "display(data)"
      ],
      "metadata": {
        "colab": {
          "base_uri": "https://localhost:8080/",
          "height": 686
        },
        "id": "5YOReAWnrR8z",
        "outputId": "bc24d24f-4769-4a50-8efa-e0bc3ec60c9d"
      },
      "id": "5YOReAWnrR8z",
      "execution_count": 72,
      "outputs": [
        {
          "output_type": "display_data",
          "data": {
            "text/plain": [
              "                   X             Y  OBJECTID EVENT_UNIQUE_ID  \\\n",
              "0      -8.809036e+06  5.431523e+06         1  GO-20141260264   \n",
              "2      -8.832825e+06  5.419631e+06         3  GO-20141259834   \n",
              "5      -8.840629e+06  5.412225e+06         6  GO-20141260618   \n",
              "6      -8.839460e+06  5.423396e+06         7  GO-20141260730   \n",
              "7      -8.813613e+06  5.428591e+06         8  GO-20141260831   \n",
              "...              ...           ...       ...             ...   \n",
              "372893 -8.849874e+06  5.425325e+06    372894  GO-20232989815   \n",
              "372894 -8.832825e+06  5.419631e+06    372895  GO-20232989838   \n",
              "372895 -8.838191e+06  5.415297e+06    372896  GO-20232989777   \n",
              "372896 -8.851986e+06  5.429799e+06    372897  GO-20232990411   \n",
              "372897 -8.832606e+06  5.429093e+06    372898  GO-20232990415   \n",
              "\n",
              "                   REPORT_DATE                OCC_DATE  REPORT_YEAR  \\\n",
              "0       2014/01/01 05:00:00+00  2014/01/01 05:00:00+00         2014   \n",
              "2       2014/01/01 05:00:00+00  2014/01/01 05:00:00+00         2014   \n",
              "5       2014/01/01 05:00:00+00  2014/01/01 05:00:00+00         2014   \n",
              "6       2014/01/01 05:00:00+00  2014/01/01 05:00:00+00         2014   \n",
              "7       2014/01/01 05:00:00+00  2014/01/01 05:00:00+00         2014   \n",
              "...                        ...                     ...          ...   \n",
              "372893  2023/12/31 05:00:00+00  2023/12/31 05:00:00+00         2023   \n",
              "372894  2023/12/31 05:00:00+00  2023/12/31 05:00:00+00         2023   \n",
              "372895  2023/12/31 05:00:00+00  2023/12/31 05:00:00+00         2023   \n",
              "372896  2023/12/31 05:00:00+00  2023/12/31 05:00:00+00         2023   \n",
              "372897  2023/12/31 05:00:00+00  2023/12/31 05:00:00+00         2023   \n",
              "\n",
              "       REPORT_MONTH  REPORT_DAY  REPORT_DOY  ... UCR_CODE  UCR_EXT  \\\n",
              "0           January           1           1  ...     1430      100   \n",
              "2           January           1           1  ...     1420      100   \n",
              "5           January           1           1  ...     1430      100   \n",
              "6           January           1           1  ...     1430      100   \n",
              "7           January           1           1  ...     1430      100   \n",
              "...             ...         ...         ...  ...      ...      ...   \n",
              "372893     December          31         365  ...     2120      210   \n",
              "372894     December          31         365  ...     1430      100   \n",
              "372895     December          31         365  ...     2120      200   \n",
              "372896     December          31         365  ...     1610      100   \n",
              "372897     December          31         365  ...     1430      100   \n",
              "\n",
              "                             OFFENCE     MCI_CATEGORY  HOOD_158  \\\n",
              "0                            Assault          Assault       143   \n",
              "2                Assault With Weapon          Assault        55   \n",
              "5                            Assault          Assault        81   \n",
              "6                            Assault          Assault       105   \n",
              "7                            Assault          Assault       136   \n",
              "...                              ...              ...       ...   \n",
              "372893  Unlawfully In Dwelling-House  Break and Enter        25   \n",
              "372894                       Assault          Assault        55   \n",
              "372895                           B&E  Break and Enter        95   \n",
              "372896           Robbery With Weapon          Robbery        24   \n",
              "372897                       Assault          Assault       150   \n",
              "\n",
              "             NEIGHBOURHOOD_158 HOOD_140            NEIGHBOURHOOD_140  \\\n",
              "0                   West Rouge      131                  Rouge (131)   \n",
              "2             Thorncliffe Park       55        Thorncliffe Park (55)   \n",
              "5            Trinity-Bellwoods       81       Trinity-Bellwoods (81)   \n",
              "6          Lawrence Park North      105    Lawrence Park North (105)   \n",
              "7                    West Hill      136              West Hill (136)   \n",
              "...                        ...      ...                          ...   \n",
              "372893  Glenfield-Jane Heights       25  Glenfield-Jane Heights (25)   \n",
              "372894        Thorncliffe Park       55        Thorncliffe Park (55)   \n",
              "372895                   Annex       95                   Annex (95)   \n",
              "372896             Black Creek       24             Black Creek (24)   \n",
              "372897       Fenside-Parkwoods       45       Parkwoods-Donalda (45)   \n",
              "\n",
              "       LONG_WGS84  LAT_WGS84  \n",
              "0      -79.132915  43.780413  \n",
              "2      -79.346615  43.703234  \n",
              "5      -79.416718  43.655115  \n",
              "6      -79.406223  43.727681  \n",
              "7      -79.174031  43.761395  \n",
              "...           ...        ...  \n",
              "372893 -79.499768  43.740196  \n",
              "372894 -79.346615  43.703234  \n",
              "372895 -79.394825  43.675083  \n",
              "372896 -79.518742  43.769232  \n",
              "372897 -79.344651  43.764646  \n",
              "\n",
              "[318654 rows x 31 columns]"
            ],
            "text/html": [
              "\n",
              "  <div id=\"df-ed6656ab-fb55-4df3-bf4e-cbe392ee0ab6\" class=\"colab-df-container\">\n",
              "    <div>\n",
              "<style scoped>\n",
              "    .dataframe tbody tr th:only-of-type {\n",
              "        vertical-align: middle;\n",
              "    }\n",
              "\n",
              "    .dataframe tbody tr th {\n",
              "        vertical-align: top;\n",
              "    }\n",
              "\n",
              "    .dataframe thead th {\n",
              "        text-align: right;\n",
              "    }\n",
              "</style>\n",
              "<table border=\"1\" class=\"dataframe\">\n",
              "  <thead>\n",
              "    <tr style=\"text-align: right;\">\n",
              "      <th></th>\n",
              "      <th>X</th>\n",
              "      <th>Y</th>\n",
              "      <th>OBJECTID</th>\n",
              "      <th>EVENT_UNIQUE_ID</th>\n",
              "      <th>REPORT_DATE</th>\n",
              "      <th>OCC_DATE</th>\n",
              "      <th>REPORT_YEAR</th>\n",
              "      <th>REPORT_MONTH</th>\n",
              "      <th>REPORT_DAY</th>\n",
              "      <th>REPORT_DOY</th>\n",
              "      <th>...</th>\n",
              "      <th>UCR_CODE</th>\n",
              "      <th>UCR_EXT</th>\n",
              "      <th>OFFENCE</th>\n",
              "      <th>MCI_CATEGORY</th>\n",
              "      <th>HOOD_158</th>\n",
              "      <th>NEIGHBOURHOOD_158</th>\n",
              "      <th>HOOD_140</th>\n",
              "      <th>NEIGHBOURHOOD_140</th>\n",
              "      <th>LONG_WGS84</th>\n",
              "      <th>LAT_WGS84</th>\n",
              "    </tr>\n",
              "  </thead>\n",
              "  <tbody>\n",
              "    <tr>\n",
              "      <th>0</th>\n",
              "      <td>-8.809036e+06</td>\n",
              "      <td>5.431523e+06</td>\n",
              "      <td>1</td>\n",
              "      <td>GO-20141260264</td>\n",
              "      <td>2014/01/01 05:00:00+00</td>\n",
              "      <td>2014/01/01 05:00:00+00</td>\n",
              "      <td>2014</td>\n",
              "      <td>January</td>\n",
              "      <td>1</td>\n",
              "      <td>1</td>\n",
              "      <td>...</td>\n",
              "      <td>1430</td>\n",
              "      <td>100</td>\n",
              "      <td>Assault</td>\n",
              "      <td>Assault</td>\n",
              "      <td>143</td>\n",
              "      <td>West Rouge</td>\n",
              "      <td>131</td>\n",
              "      <td>Rouge (131)</td>\n",
              "      <td>-79.132915</td>\n",
              "      <td>43.780413</td>\n",
              "    </tr>\n",
              "    <tr>\n",
              "      <th>2</th>\n",
              "      <td>-8.832825e+06</td>\n",
              "      <td>5.419631e+06</td>\n",
              "      <td>3</td>\n",
              "      <td>GO-20141259834</td>\n",
              "      <td>2014/01/01 05:00:00+00</td>\n",
              "      <td>2014/01/01 05:00:00+00</td>\n",
              "      <td>2014</td>\n",
              "      <td>January</td>\n",
              "      <td>1</td>\n",
              "      <td>1</td>\n",
              "      <td>...</td>\n",
              "      <td>1420</td>\n",
              "      <td>100</td>\n",
              "      <td>Assault With Weapon</td>\n",
              "      <td>Assault</td>\n",
              "      <td>55</td>\n",
              "      <td>Thorncliffe Park</td>\n",
              "      <td>55</td>\n",
              "      <td>Thorncliffe Park (55)</td>\n",
              "      <td>-79.346615</td>\n",
              "      <td>43.703234</td>\n",
              "    </tr>\n",
              "    <tr>\n",
              "      <th>5</th>\n",
              "      <td>-8.840629e+06</td>\n",
              "      <td>5.412225e+06</td>\n",
              "      <td>6</td>\n",
              "      <td>GO-20141260618</td>\n",
              "      <td>2014/01/01 05:00:00+00</td>\n",
              "      <td>2014/01/01 05:00:00+00</td>\n",
              "      <td>2014</td>\n",
              "      <td>January</td>\n",
              "      <td>1</td>\n",
              "      <td>1</td>\n",
              "      <td>...</td>\n",
              "      <td>1430</td>\n",
              "      <td>100</td>\n",
              "      <td>Assault</td>\n",
              "      <td>Assault</td>\n",
              "      <td>81</td>\n",
              "      <td>Trinity-Bellwoods</td>\n",
              "      <td>81</td>\n",
              "      <td>Trinity-Bellwoods (81)</td>\n",
              "      <td>-79.416718</td>\n",
              "      <td>43.655115</td>\n",
              "    </tr>\n",
              "    <tr>\n",
              "      <th>6</th>\n",
              "      <td>-8.839460e+06</td>\n",
              "      <td>5.423396e+06</td>\n",
              "      <td>7</td>\n",
              "      <td>GO-20141260730</td>\n",
              "      <td>2014/01/01 05:00:00+00</td>\n",
              "      <td>2014/01/01 05:00:00+00</td>\n",
              "      <td>2014</td>\n",
              "      <td>January</td>\n",
              "      <td>1</td>\n",
              "      <td>1</td>\n",
              "      <td>...</td>\n",
              "      <td>1430</td>\n",
              "      <td>100</td>\n",
              "      <td>Assault</td>\n",
              "      <td>Assault</td>\n",
              "      <td>105</td>\n",
              "      <td>Lawrence Park North</td>\n",
              "      <td>105</td>\n",
              "      <td>Lawrence Park North (105)</td>\n",
              "      <td>-79.406223</td>\n",
              "      <td>43.727681</td>\n",
              "    </tr>\n",
              "    <tr>\n",
              "      <th>7</th>\n",
              "      <td>-8.813613e+06</td>\n",
              "      <td>5.428591e+06</td>\n",
              "      <td>8</td>\n",
              "      <td>GO-20141260831</td>\n",
              "      <td>2014/01/01 05:00:00+00</td>\n",
              "      <td>2014/01/01 05:00:00+00</td>\n",
              "      <td>2014</td>\n",
              "      <td>January</td>\n",
              "      <td>1</td>\n",
              "      <td>1</td>\n",
              "      <td>...</td>\n",
              "      <td>1430</td>\n",
              "      <td>100</td>\n",
              "      <td>Assault</td>\n",
              "      <td>Assault</td>\n",
              "      <td>136</td>\n",
              "      <td>West Hill</td>\n",
              "      <td>136</td>\n",
              "      <td>West Hill (136)</td>\n",
              "      <td>-79.174031</td>\n",
              "      <td>43.761395</td>\n",
              "    </tr>\n",
              "    <tr>\n",
              "      <th>...</th>\n",
              "      <td>...</td>\n",
              "      <td>...</td>\n",
              "      <td>...</td>\n",
              "      <td>...</td>\n",
              "      <td>...</td>\n",
              "      <td>...</td>\n",
              "      <td>...</td>\n",
              "      <td>...</td>\n",
              "      <td>...</td>\n",
              "      <td>...</td>\n",
              "      <td>...</td>\n",
              "      <td>...</td>\n",
              "      <td>...</td>\n",
              "      <td>...</td>\n",
              "      <td>...</td>\n",
              "      <td>...</td>\n",
              "      <td>...</td>\n",
              "      <td>...</td>\n",
              "      <td>...</td>\n",
              "      <td>...</td>\n",
              "      <td>...</td>\n",
              "    </tr>\n",
              "    <tr>\n",
              "      <th>372893</th>\n",
              "      <td>-8.849874e+06</td>\n",
              "      <td>5.425325e+06</td>\n",
              "      <td>372894</td>\n",
              "      <td>GO-20232989815</td>\n",
              "      <td>2023/12/31 05:00:00+00</td>\n",
              "      <td>2023/12/31 05:00:00+00</td>\n",
              "      <td>2023</td>\n",
              "      <td>December</td>\n",
              "      <td>31</td>\n",
              "      <td>365</td>\n",
              "      <td>...</td>\n",
              "      <td>2120</td>\n",
              "      <td>210</td>\n",
              "      <td>Unlawfully In Dwelling-House</td>\n",
              "      <td>Break and Enter</td>\n",
              "      <td>25</td>\n",
              "      <td>Glenfield-Jane Heights</td>\n",
              "      <td>25</td>\n",
              "      <td>Glenfield-Jane Heights (25)</td>\n",
              "      <td>-79.499768</td>\n",
              "      <td>43.740196</td>\n",
              "    </tr>\n",
              "    <tr>\n",
              "      <th>372894</th>\n",
              "      <td>-8.832825e+06</td>\n",
              "      <td>5.419631e+06</td>\n",
              "      <td>372895</td>\n",
              "      <td>GO-20232989838</td>\n",
              "      <td>2023/12/31 05:00:00+00</td>\n",
              "      <td>2023/12/31 05:00:00+00</td>\n",
              "      <td>2023</td>\n",
              "      <td>December</td>\n",
              "      <td>31</td>\n",
              "      <td>365</td>\n",
              "      <td>...</td>\n",
              "      <td>1430</td>\n",
              "      <td>100</td>\n",
              "      <td>Assault</td>\n",
              "      <td>Assault</td>\n",
              "      <td>55</td>\n",
              "      <td>Thorncliffe Park</td>\n",
              "      <td>55</td>\n",
              "      <td>Thorncliffe Park (55)</td>\n",
              "      <td>-79.346615</td>\n",
              "      <td>43.703234</td>\n",
              "    </tr>\n",
              "    <tr>\n",
              "      <th>372895</th>\n",
              "      <td>-8.838191e+06</td>\n",
              "      <td>5.415297e+06</td>\n",
              "      <td>372896</td>\n",
              "      <td>GO-20232989777</td>\n",
              "      <td>2023/12/31 05:00:00+00</td>\n",
              "      <td>2023/12/31 05:00:00+00</td>\n",
              "      <td>2023</td>\n",
              "      <td>December</td>\n",
              "      <td>31</td>\n",
              "      <td>365</td>\n",
              "      <td>...</td>\n",
              "      <td>2120</td>\n",
              "      <td>200</td>\n",
              "      <td>B&amp;E</td>\n",
              "      <td>Break and Enter</td>\n",
              "      <td>95</td>\n",
              "      <td>Annex</td>\n",
              "      <td>95</td>\n",
              "      <td>Annex (95)</td>\n",
              "      <td>-79.394825</td>\n",
              "      <td>43.675083</td>\n",
              "    </tr>\n",
              "    <tr>\n",
              "      <th>372896</th>\n",
              "      <td>-8.851986e+06</td>\n",
              "      <td>5.429799e+06</td>\n",
              "      <td>372897</td>\n",
              "      <td>GO-20232990411</td>\n",
              "      <td>2023/12/31 05:00:00+00</td>\n",
              "      <td>2023/12/31 05:00:00+00</td>\n",
              "      <td>2023</td>\n",
              "      <td>December</td>\n",
              "      <td>31</td>\n",
              "      <td>365</td>\n",
              "      <td>...</td>\n",
              "      <td>1610</td>\n",
              "      <td>100</td>\n",
              "      <td>Robbery With Weapon</td>\n",
              "      <td>Robbery</td>\n",
              "      <td>24</td>\n",
              "      <td>Black Creek</td>\n",
              "      <td>24</td>\n",
              "      <td>Black Creek (24)</td>\n",
              "      <td>-79.518742</td>\n",
              "      <td>43.769232</td>\n",
              "    </tr>\n",
              "    <tr>\n",
              "      <th>372897</th>\n",
              "      <td>-8.832606e+06</td>\n",
              "      <td>5.429093e+06</td>\n",
              "      <td>372898</td>\n",
              "      <td>GO-20232990415</td>\n",
              "      <td>2023/12/31 05:00:00+00</td>\n",
              "      <td>2023/12/31 05:00:00+00</td>\n",
              "      <td>2023</td>\n",
              "      <td>December</td>\n",
              "      <td>31</td>\n",
              "      <td>365</td>\n",
              "      <td>...</td>\n",
              "      <td>1430</td>\n",
              "      <td>100</td>\n",
              "      <td>Assault</td>\n",
              "      <td>Assault</td>\n",
              "      <td>150</td>\n",
              "      <td>Fenside-Parkwoods</td>\n",
              "      <td>45</td>\n",
              "      <td>Parkwoods-Donalda (45)</td>\n",
              "      <td>-79.344651</td>\n",
              "      <td>43.764646</td>\n",
              "    </tr>\n",
              "  </tbody>\n",
              "</table>\n",
              "<p>318654 rows × 31 columns</p>\n",
              "</div>\n",
              "    <div class=\"colab-df-buttons\">\n",
              "\n",
              "  <div class=\"colab-df-container\">\n",
              "    <button class=\"colab-df-convert\" onclick=\"convertToInteractive('df-ed6656ab-fb55-4df3-bf4e-cbe392ee0ab6')\"\n",
              "            title=\"Convert this dataframe to an interactive table.\"\n",
              "            style=\"display:none;\">\n",
              "\n",
              "  <svg xmlns=\"http://www.w3.org/2000/svg\" height=\"24px\" viewBox=\"0 -960 960 960\">\n",
              "    <path d=\"M120-120v-720h720v720H120Zm60-500h600v-160H180v160Zm220 220h160v-160H400v160Zm0 220h160v-160H400v160ZM180-400h160v-160H180v160Zm440 0h160v-160H620v160ZM180-180h160v-160H180v160Zm440 0h160v-160H620v160Z\"/>\n",
              "  </svg>\n",
              "    </button>\n",
              "\n",
              "  <style>\n",
              "    .colab-df-container {\n",
              "      display:flex;\n",
              "      gap: 12px;\n",
              "    }\n",
              "\n",
              "    .colab-df-convert {\n",
              "      background-color: #E8F0FE;\n",
              "      border: none;\n",
              "      border-radius: 50%;\n",
              "      cursor: pointer;\n",
              "      display: none;\n",
              "      fill: #1967D2;\n",
              "      height: 32px;\n",
              "      padding: 0 0 0 0;\n",
              "      width: 32px;\n",
              "    }\n",
              "\n",
              "    .colab-df-convert:hover {\n",
              "      background-color: #E2EBFA;\n",
              "      box-shadow: 0px 1px 2px rgba(60, 64, 67, 0.3), 0px 1px 3px 1px rgba(60, 64, 67, 0.15);\n",
              "      fill: #174EA6;\n",
              "    }\n",
              "\n",
              "    .colab-df-buttons div {\n",
              "      margin-bottom: 4px;\n",
              "    }\n",
              "\n",
              "    [theme=dark] .colab-df-convert {\n",
              "      background-color: #3B4455;\n",
              "      fill: #D2E3FC;\n",
              "    }\n",
              "\n",
              "    [theme=dark] .colab-df-convert:hover {\n",
              "      background-color: #434B5C;\n",
              "      box-shadow: 0px 1px 3px 1px rgba(0, 0, 0, 0.15);\n",
              "      filter: drop-shadow(0px 1px 2px rgba(0, 0, 0, 0.3));\n",
              "      fill: #FFFFFF;\n",
              "    }\n",
              "  </style>\n",
              "\n",
              "    <script>\n",
              "      const buttonEl =\n",
              "        document.querySelector('#df-ed6656ab-fb55-4df3-bf4e-cbe392ee0ab6 button.colab-df-convert');\n",
              "      buttonEl.style.display =\n",
              "        google.colab.kernel.accessAllowed ? 'block' : 'none';\n",
              "\n",
              "      async function convertToInteractive(key) {\n",
              "        const element = document.querySelector('#df-ed6656ab-fb55-4df3-bf4e-cbe392ee0ab6');\n",
              "        const dataTable =\n",
              "          await google.colab.kernel.invokeFunction('convertToInteractive',\n",
              "                                                    [key], {});\n",
              "        if (!dataTable) return;\n",
              "\n",
              "        const docLinkHtml = 'Like what you see? Visit the ' +\n",
              "          '<a target=\"_blank\" href=https://colab.research.google.com/notebooks/data_table.ipynb>data table notebook</a>'\n",
              "          + ' to learn more about interactive tables.';\n",
              "        element.innerHTML = '';\n",
              "        dataTable['output_type'] = 'display_data';\n",
              "        await google.colab.output.renderOutput(dataTable, element);\n",
              "        const docLink = document.createElement('div');\n",
              "        docLink.innerHTML = docLinkHtml;\n",
              "        element.appendChild(docLink);\n",
              "      }\n",
              "    </script>\n",
              "  </div>\n",
              "\n",
              "\n",
              "<div id=\"df-0bc3345a-f4d9-4570-8b40-9c7e69e5554a\">\n",
              "  <button class=\"colab-df-quickchart\" onclick=\"quickchart('df-0bc3345a-f4d9-4570-8b40-9c7e69e5554a')\"\n",
              "            title=\"Suggest charts\"\n",
              "            style=\"display:none;\">\n",
              "\n",
              "<svg xmlns=\"http://www.w3.org/2000/svg\" height=\"24px\"viewBox=\"0 0 24 24\"\n",
              "     width=\"24px\">\n",
              "    <g>\n",
              "        <path d=\"M19 3H5c-1.1 0-2 .9-2 2v14c0 1.1.9 2 2 2h14c1.1 0 2-.9 2-2V5c0-1.1-.9-2-2-2zM9 17H7v-7h2v7zm4 0h-2V7h2v10zm4 0h-2v-4h2v4z\"/>\n",
              "    </g>\n",
              "</svg>\n",
              "  </button>\n",
              "\n",
              "<style>\n",
              "  .colab-df-quickchart {\n",
              "      --bg-color: #E8F0FE;\n",
              "      --fill-color: #1967D2;\n",
              "      --hover-bg-color: #E2EBFA;\n",
              "      --hover-fill-color: #174EA6;\n",
              "      --disabled-fill-color: #AAA;\n",
              "      --disabled-bg-color: #DDD;\n",
              "  }\n",
              "\n",
              "  [theme=dark] .colab-df-quickchart {\n",
              "      --bg-color: #3B4455;\n",
              "      --fill-color: #D2E3FC;\n",
              "      --hover-bg-color: #434B5C;\n",
              "      --hover-fill-color: #FFFFFF;\n",
              "      --disabled-bg-color: #3B4455;\n",
              "      --disabled-fill-color: #666;\n",
              "  }\n",
              "\n",
              "  .colab-df-quickchart {\n",
              "    background-color: var(--bg-color);\n",
              "    border: none;\n",
              "    border-radius: 50%;\n",
              "    cursor: pointer;\n",
              "    display: none;\n",
              "    fill: var(--fill-color);\n",
              "    height: 32px;\n",
              "    padding: 0;\n",
              "    width: 32px;\n",
              "  }\n",
              "\n",
              "  .colab-df-quickchart:hover {\n",
              "    background-color: var(--hover-bg-color);\n",
              "    box-shadow: 0 1px 2px rgba(60, 64, 67, 0.3), 0 1px 3px 1px rgba(60, 64, 67, 0.15);\n",
              "    fill: var(--button-hover-fill-color);\n",
              "  }\n",
              "\n",
              "  .colab-df-quickchart-complete:disabled,\n",
              "  .colab-df-quickchart-complete:disabled:hover {\n",
              "    background-color: var(--disabled-bg-color);\n",
              "    fill: var(--disabled-fill-color);\n",
              "    box-shadow: none;\n",
              "  }\n",
              "\n",
              "  .colab-df-spinner {\n",
              "    border: 2px solid var(--fill-color);\n",
              "    border-color: transparent;\n",
              "    border-bottom-color: var(--fill-color);\n",
              "    animation:\n",
              "      spin 1s steps(1) infinite;\n",
              "  }\n",
              "\n",
              "  @keyframes spin {\n",
              "    0% {\n",
              "      border-color: transparent;\n",
              "      border-bottom-color: var(--fill-color);\n",
              "      border-left-color: var(--fill-color);\n",
              "    }\n",
              "    20% {\n",
              "      border-color: transparent;\n",
              "      border-left-color: var(--fill-color);\n",
              "      border-top-color: var(--fill-color);\n",
              "    }\n",
              "    30% {\n",
              "      border-color: transparent;\n",
              "      border-left-color: var(--fill-color);\n",
              "      border-top-color: var(--fill-color);\n",
              "      border-right-color: var(--fill-color);\n",
              "    }\n",
              "    40% {\n",
              "      border-color: transparent;\n",
              "      border-right-color: var(--fill-color);\n",
              "      border-top-color: var(--fill-color);\n",
              "    }\n",
              "    60% {\n",
              "      border-color: transparent;\n",
              "      border-right-color: var(--fill-color);\n",
              "    }\n",
              "    80% {\n",
              "      border-color: transparent;\n",
              "      border-right-color: var(--fill-color);\n",
              "      border-bottom-color: var(--fill-color);\n",
              "    }\n",
              "    90% {\n",
              "      border-color: transparent;\n",
              "      border-bottom-color: var(--fill-color);\n",
              "    }\n",
              "  }\n",
              "</style>\n",
              "\n",
              "  <script>\n",
              "    async function quickchart(key) {\n",
              "      const quickchartButtonEl =\n",
              "        document.querySelector('#' + key + ' button');\n",
              "      quickchartButtonEl.disabled = true;  // To prevent multiple clicks.\n",
              "      quickchartButtonEl.classList.add('colab-df-spinner');\n",
              "      try {\n",
              "        const charts = await google.colab.kernel.invokeFunction(\n",
              "            'suggestCharts', [key], {});\n",
              "      } catch (error) {\n",
              "        console.error('Error during call to suggestCharts:', error);\n",
              "      }\n",
              "      quickchartButtonEl.classList.remove('colab-df-spinner');\n",
              "      quickchartButtonEl.classList.add('colab-df-quickchart-complete');\n",
              "    }\n",
              "    (() => {\n",
              "      let quickchartButtonEl =\n",
              "        document.querySelector('#df-0bc3345a-f4d9-4570-8b40-9c7e69e5554a button');\n",
              "      quickchartButtonEl.style.display =\n",
              "        google.colab.kernel.accessAllowed ? 'block' : 'none';\n",
              "    })();\n",
              "  </script>\n",
              "</div>\n",
              "    </div>\n",
              "  </div>\n"
            ],
            "application/vnd.google.colaboratory.intrinsic+json": {
              "type": "dataframe",
              "variable_name": "data"
            }
          },
          "metadata": {}
        }
      ]
    },
    {
      "cell_type": "code",
      "source": [
        "# Determining X_train and X_test\n",
        "X_train = clean_data(X_train)\n",
        "X_test = clean_data(X_test)"
      ],
      "metadata": {
        "id": "6LKgCcptrsV2"
      },
      "id": "6LKgCcptrsV2",
      "execution_count": 73,
      "outputs": []
    },
    {
      "cell_type": "code",
      "source": [
        "# Applying SMOTE to balance the train set\n",
        "smote = SMOTE(random_state=123)\n",
        "\n",
        "X_train_resampled, y_train_resampled = smote.fit_resample(X_train, y_train)\n",
        "\n",
        "print(\"Class Distribution after SMOTE:\")\n",
        "print(y_train_resampled.value_counts())"
      ],
      "metadata": {
        "colab": {
          "base_uri": "https://localhost:8080/"
        },
        "id": "d1h5O5UEr4zc",
        "outputId": "2d398569-3a34-4a13-8ef5-cecafbb29030"
      },
      "id": "d1h5O5UEr4zc",
      "execution_count": 75,
      "outputs": [
        {
          "output_type": "stream",
          "name": "stdout",
          "text": [
            "Class Distribution after SMOTE:\n",
            "Assault            113573\n",
            "Auto Theft         113573\n",
            "Break and Enter    113573\n",
            "Robbery            113573\n",
            "Theft Over         113573\n",
            "Name: MCI_CATEGORY, dtype: int64\n"
          ]
        }
      ]
    },
    {
      "cell_type": "code",
      "source": [
        "# Initializing classifiers using 10-fold cross validation\n",
        "classifiers = {\n",
        "    'Decision Tree': DecisionTreeClassifier(),\n",
        "    'KNN': KNeighborsClassifier(),\n",
        "    'Naive Bayes': GaussianNB(),\n",
        "}\n",
        "\n",
        "for name, clf in classifiers.items():\n",
        "    cv_scores = cross_val_score(clf, X_train_resampled, y_train_resampled, cv=10)\n",
        "\n",
        "    clf.fit(X_train_resampled, y_train_resampled)\n",
        "\n",
        "    test_score = clf.score(X_test, y_test)\n",
        "\n",
        "    print(f\"Classifier: {name}\")\n",
        "    print(\"Cross-validation scores on training set:\", cv_scores)\n",
        "    print(\"Mean cross-validation score on training set:\", np.mean(cv_scores))\n",
        "    print(\"Accuracy on test set:\", test_score)\n",
        "    print()"
      ],
      "metadata": {
        "colab": {
          "base_uri": "https://localhost:8080/"
        },
        "id": "XQZJq2EzsASj",
        "outputId": "7c22d52b-3433-4046-c8e4-e484e99fb0ac"
      },
      "id": "XQZJq2EzsASj",
      "execution_count": 76,
      "outputs": [
        {
          "output_type": "stream",
          "name": "stdout",
          "text": [
            "Classifier: Decision Tree\n",
            "Cross-validation scores on training set: [1. 1. 1. 1. 1. 1. 1. 1. 1. 1.]\n",
            "Mean cross-validation score on training set: 1.0\n",
            "Accuracy on test set: 1.0\n",
            "\n",
            "Classifier: KNN\n",
            "Cross-validation scores on training set: [0.75446845 0.79042739 0.80490253 0.81111874 0.83538486 0.8375656\n",
            " 0.83899201 0.83751277 0.83689642 0.83654422]\n",
            "Mean cross-validation score on training set: 0.8183812976755354\n",
            "Accuracy on test set: 0.7361318869839012\n",
            "\n",
            "Classifier: Naive Bayes\n",
            "Cross-validation scores on training set: [0.9908958  0.99468188 0.994541   0.99517495 0.99528061 0.99550946\n",
            " 0.99480506 0.99492833 0.99528053 0.99427676]\n",
            "Mean cross-validation score on training set: 0.9945374377940844\n",
            "Accuracy on test set: 0.9899787650240071\n",
            "\n"
          ]
        }
      ]
    },
    {
      "cell_type": "markdown",
      "source": [
        "**6. Revisiting Feature Selection**"
      ],
      "metadata": {
        "id": "YfcWMwA3sbBI"
      },
      "id": "YfcWMwA3sbBI"
    },
    {
      "cell_type": "code",
      "source": [
        "# Uploading AGAIN the selected dataset for this project\n",
        "data = pd.read_csv('Major_Crime_Indicators_Open_Data.csv')"
      ],
      "metadata": {
        "id": "CNlUJdnKsih5"
      },
      "id": "CNlUJdnKsih5",
      "execution_count": 86,
      "outputs": []
    },
    {
      "cell_type": "code",
      "source": [
        "# Converting target variable to categorical type variable\n",
        "data.MCI_CATEGORY = data.MCI_CATEGORY.astype('category')\n",
        "# Removing duplicate rows from the dataset\n",
        "data.drop_duplicates(subset = ['EVENT_UNIQUE_ID'], inplace = True)\n",
        "# Omitting missing values\n",
        "data.dropna(inplace=True)\n",
        "# Dropping rows containing years of crime occurrence from 2000 to 2013\n",
        "drop_rows = data['OCC_YEAR'].isin([2000, 2001, 2002, 2003, 2004, 2005, 2006, 2007, 2008, 2009, 2010, 2011, 2012, 2013])\n",
        "data.drop(data[drop_rows].index, inplace=True)\n",
        "# Dropping NSA from HOOD_158 and NEIGHBOURHOOD_158\n",
        "filtered_indices = data[(data['HOOD_158'] == 'NSA') | (data['NEIGHBOURHOOD_158'] == 'NSA')].index\n",
        "data.drop(filtered_indices, inplace=True)\n",
        "# Dropping irrelevant variables to clean up the dataset\n",
        "attributes_to_drop = ['OBJECTID', 'EVENT_UNIQUE_ID', 'REPORT_DATE', 'OCC_DATE']\n",
        "data.drop(columns = attributes_to_drop, inplace = True)"
      ],
      "metadata": {
        "id": "d2bkwL3OxqJW"
      },
      "id": "d2bkwL3OxqJW",
      "execution_count": 87,
      "outputs": []
    },
    {
      "cell_type": "code",
      "source": [
        "# Encoding categorical variables\n",
        "categorical_columns = ['UCR_CODE', 'PREMISES_TYPE', 'NEIGHBOURHOOD_158', 'HOOD_158', 'OCC_HOUR', 'OCC_YEAR', 'MCI_CATEGORY',\n",
        "                       'OFFENCE', 'LOCATION_TYPE', 'LAT_WGS84', 'LONG_WGS84', 'NEIGHBOURHOOD_140', 'HOOD_140', 'REPORT_HOUR',\n",
        "                       'DIVISION', 'REPORT_YEAR', 'REPORT_DOY', 'REPORT_DOW', 'OCC_DOW', 'OCC_DAY',\n",
        "                       'REPORT_MONTH', 'OCC_DOY', 'OCC_MONTH', 'REPORT_DAY', 'UCR_EXT', 'X', 'Y']\n",
        "label_encoder = LabelEncoder()\n",
        "for column in categorical_columns:\n",
        "    data[column] = label_encoder.fit_transform(data[column])"
      ],
      "metadata": {
        "id": "EDkw89s2u-Dr"
      },
      "id": "EDkw89s2u-Dr",
      "execution_count": 88,
      "outputs": []
    },
    {
      "cell_type": "code",
      "source": [
        "# Applying train-test_split\n",
        "seed = 42\n",
        "target_var = 'MCI_CATEGORY'\n",
        "predictors = data.columns[data.columns != target_var]\n",
        "X_train, X_test, y_train, y_test = train_test_split(data.loc[:,predictors], data[target_var], random_state = seed, test_size = 0.30)"
      ],
      "metadata": {
        "id": "znng7PGetDmI"
      },
      "id": "znng7PGetDmI",
      "execution_count": 89,
      "outputs": []
    },
    {
      "cell_type": "code",
      "source": [
        "# Initializing SelectKBest with the f_classif scoring function\n",
        "selector = SelectKBest(score_func=f_classif)\n",
        "selector.fit(X_train, y_train)\n",
        "k = 10\n",
        "top_indices = selector.get_support(indices=True)\n",
        "feature_names = X_train.columns\n",
        "\n",
        "print(\"Top {} features:\".format(k))\n",
        "for i in top_indices:\n",
        "    print(feature_names[i])"
      ],
      "metadata": {
        "colab": {
          "base_uri": "https://localhost:8080/"
        },
        "id": "w65X0_MmvSIP",
        "outputId": "00b6c107-4867-4ac5-e97c-8af22b6b91bc"
      },
      "id": "w65X0_MmvSIP",
      "execution_count": 90,
      "outputs": [
        {
          "output_type": "stream",
          "name": "stdout",
          "text": [
            "Top 10 features:\n",
            "X\n",
            "REPORT_YEAR\n",
            "OCC_YEAR\n",
            "OCC_HOUR\n",
            "LOCATION_TYPE\n",
            "PREMISES_TYPE\n",
            "UCR_CODE\n",
            "UCR_EXT\n",
            "OFFENCE\n",
            "HOOD_140\n"
          ]
        }
      ]
    },
    {
      "cell_type": "code",
      "source": [
        "# Dropping variables except for the ones selected\n",
        "columns_to_drop = ['Y', 'LAT_WGS84', 'LONG_WGS84', 'NEIGHBOURHOOD_140','REPORT_HOUR','DIVISION', 'REPORT_DOY',\n",
        "                   'REPORT_DOW', 'OCC_DOW', 'OCC_DAY', 'REPORT_MONTH', 'OCC_DOY', 'OCC_MONTH', 'REPORT_DAY',\n",
        "                   'NEIGHBOURHOOD_158', 'HOOD_158']\n",
        "X_train.drop(columns = columns_to_drop, inplace = True)\n",
        "X_test.drop(columns = columns_to_drop, inplace = True)\n",
        "display(X_train)"
      ],
      "metadata": {
        "colab": {
          "base_uri": "https://localhost:8080/",
          "height": 423
        },
        "id": "QuEGI9PpzWp7",
        "outputId": "13c01fa9-b2ad-49e8-c19a-a07c5f058de2"
      },
      "id": "QuEGI9PpzWp7",
      "execution_count": 91,
      "outputs": [
        {
          "output_type": "display_data",
          "data": {
            "text/plain": [
              "            X  REPORT_YEAR  OCC_YEAR  OCC_HOUR  LOCATION_TYPE  PREMISES_TYPE  \\\n",
              "220976  13473            6         6        18             22              1   \n",
              "12416   14635            0         0        17              0              0   \n",
              "212961  18370            6         6        22             22              1   \n",
              "113399   6078            3         3         9              0              0   \n",
              "29658   11670            0         0         5              0              0   \n",
              "...       ...          ...       ...       ...            ...            ...   \n",
              "141037   9109            4         4        13             22              1   \n",
              "304048   6753            8         8        14             21              5   \n",
              "155177  10034            4         4        11             22              1   \n",
              "172596   6641            5         5        23             22              1   \n",
              "143441   7027            4         4        14             22              1   \n",
              "\n",
              "        UCR_CODE  UCR_EXT  OFFENCE  HOOD_140  \n",
              "220976         1        0       11        79  \n",
              "12416          2        0        5        99  \n",
              "212961        13        0       36        41  \n",
              "113399         2        0        5        65  \n",
              "29658          2        0        5       109  \n",
              "...          ...      ...      ...       ...  \n",
              "141037        20       10       45         2  \n",
              "304048         2        0        5        69  \n",
              "155177        15       10       12       117  \n",
              "172596         2        0        5       132  \n",
              "143441        12        0        7       124  \n",
              "\n",
              "[223057 rows x 10 columns]"
            ],
            "text/html": [
              "\n",
              "  <div id=\"df-cad9bf64-925f-4760-a711-226548227b0a\" class=\"colab-df-container\">\n",
              "    <div>\n",
              "<style scoped>\n",
              "    .dataframe tbody tr th:only-of-type {\n",
              "        vertical-align: middle;\n",
              "    }\n",
              "\n",
              "    .dataframe tbody tr th {\n",
              "        vertical-align: top;\n",
              "    }\n",
              "\n",
              "    .dataframe thead th {\n",
              "        text-align: right;\n",
              "    }\n",
              "</style>\n",
              "<table border=\"1\" class=\"dataframe\">\n",
              "  <thead>\n",
              "    <tr style=\"text-align: right;\">\n",
              "      <th></th>\n",
              "      <th>X</th>\n",
              "      <th>REPORT_YEAR</th>\n",
              "      <th>OCC_YEAR</th>\n",
              "      <th>OCC_HOUR</th>\n",
              "      <th>LOCATION_TYPE</th>\n",
              "      <th>PREMISES_TYPE</th>\n",
              "      <th>UCR_CODE</th>\n",
              "      <th>UCR_EXT</th>\n",
              "      <th>OFFENCE</th>\n",
              "      <th>HOOD_140</th>\n",
              "    </tr>\n",
              "  </thead>\n",
              "  <tbody>\n",
              "    <tr>\n",
              "      <th>220976</th>\n",
              "      <td>13473</td>\n",
              "      <td>6</td>\n",
              "      <td>6</td>\n",
              "      <td>18</td>\n",
              "      <td>22</td>\n",
              "      <td>1</td>\n",
              "      <td>1</td>\n",
              "      <td>0</td>\n",
              "      <td>11</td>\n",
              "      <td>79</td>\n",
              "    </tr>\n",
              "    <tr>\n",
              "      <th>12416</th>\n",
              "      <td>14635</td>\n",
              "      <td>0</td>\n",
              "      <td>0</td>\n",
              "      <td>17</td>\n",
              "      <td>0</td>\n",
              "      <td>0</td>\n",
              "      <td>2</td>\n",
              "      <td>0</td>\n",
              "      <td>5</td>\n",
              "      <td>99</td>\n",
              "    </tr>\n",
              "    <tr>\n",
              "      <th>212961</th>\n",
              "      <td>18370</td>\n",
              "      <td>6</td>\n",
              "      <td>6</td>\n",
              "      <td>22</td>\n",
              "      <td>22</td>\n",
              "      <td>1</td>\n",
              "      <td>13</td>\n",
              "      <td>0</td>\n",
              "      <td>36</td>\n",
              "      <td>41</td>\n",
              "    </tr>\n",
              "    <tr>\n",
              "      <th>113399</th>\n",
              "      <td>6078</td>\n",
              "      <td>3</td>\n",
              "      <td>3</td>\n",
              "      <td>9</td>\n",
              "      <td>0</td>\n",
              "      <td>0</td>\n",
              "      <td>2</td>\n",
              "      <td>0</td>\n",
              "      <td>5</td>\n",
              "      <td>65</td>\n",
              "    </tr>\n",
              "    <tr>\n",
              "      <th>29658</th>\n",
              "      <td>11670</td>\n",
              "      <td>0</td>\n",
              "      <td>0</td>\n",
              "      <td>5</td>\n",
              "      <td>0</td>\n",
              "      <td>0</td>\n",
              "      <td>2</td>\n",
              "      <td>0</td>\n",
              "      <td>5</td>\n",
              "      <td>109</td>\n",
              "    </tr>\n",
              "    <tr>\n",
              "      <th>...</th>\n",
              "      <td>...</td>\n",
              "      <td>...</td>\n",
              "      <td>...</td>\n",
              "      <td>...</td>\n",
              "      <td>...</td>\n",
              "      <td>...</td>\n",
              "      <td>...</td>\n",
              "      <td>...</td>\n",
              "      <td>...</td>\n",
              "      <td>...</td>\n",
              "    </tr>\n",
              "    <tr>\n",
              "      <th>141037</th>\n",
              "      <td>9109</td>\n",
              "      <td>4</td>\n",
              "      <td>4</td>\n",
              "      <td>13</td>\n",
              "      <td>22</td>\n",
              "      <td>1</td>\n",
              "      <td>20</td>\n",
              "      <td>10</td>\n",
              "      <td>45</td>\n",
              "      <td>2</td>\n",
              "    </tr>\n",
              "    <tr>\n",
              "      <th>304048</th>\n",
              "      <td>6753</td>\n",
              "      <td>8</td>\n",
              "      <td>8</td>\n",
              "      <td>14</td>\n",
              "      <td>21</td>\n",
              "      <td>5</td>\n",
              "      <td>2</td>\n",
              "      <td>0</td>\n",
              "      <td>5</td>\n",
              "      <td>69</td>\n",
              "    </tr>\n",
              "    <tr>\n",
              "      <th>155177</th>\n",
              "      <td>10034</td>\n",
              "      <td>4</td>\n",
              "      <td>4</td>\n",
              "      <td>11</td>\n",
              "      <td>22</td>\n",
              "      <td>1</td>\n",
              "      <td>15</td>\n",
              "      <td>10</td>\n",
              "      <td>12</td>\n",
              "      <td>117</td>\n",
              "    </tr>\n",
              "    <tr>\n",
              "      <th>172596</th>\n",
              "      <td>6641</td>\n",
              "      <td>5</td>\n",
              "      <td>5</td>\n",
              "      <td>23</td>\n",
              "      <td>22</td>\n",
              "      <td>1</td>\n",
              "      <td>2</td>\n",
              "      <td>0</td>\n",
              "      <td>5</td>\n",
              "      <td>132</td>\n",
              "    </tr>\n",
              "    <tr>\n",
              "      <th>143441</th>\n",
              "      <td>7027</td>\n",
              "      <td>4</td>\n",
              "      <td>4</td>\n",
              "      <td>14</td>\n",
              "      <td>22</td>\n",
              "      <td>1</td>\n",
              "      <td>12</td>\n",
              "      <td>0</td>\n",
              "      <td>7</td>\n",
              "      <td>124</td>\n",
              "    </tr>\n",
              "  </tbody>\n",
              "</table>\n",
              "<p>223057 rows × 10 columns</p>\n",
              "</div>\n",
              "    <div class=\"colab-df-buttons\">\n",
              "\n",
              "  <div class=\"colab-df-container\">\n",
              "    <button class=\"colab-df-convert\" onclick=\"convertToInteractive('df-cad9bf64-925f-4760-a711-226548227b0a')\"\n",
              "            title=\"Convert this dataframe to an interactive table.\"\n",
              "            style=\"display:none;\">\n",
              "\n",
              "  <svg xmlns=\"http://www.w3.org/2000/svg\" height=\"24px\" viewBox=\"0 -960 960 960\">\n",
              "    <path d=\"M120-120v-720h720v720H120Zm60-500h600v-160H180v160Zm220 220h160v-160H400v160Zm0 220h160v-160H400v160ZM180-400h160v-160H180v160Zm440 0h160v-160H620v160ZM180-180h160v-160H180v160Zm440 0h160v-160H620v160Z\"/>\n",
              "  </svg>\n",
              "    </button>\n",
              "\n",
              "  <style>\n",
              "    .colab-df-container {\n",
              "      display:flex;\n",
              "      gap: 12px;\n",
              "    }\n",
              "\n",
              "    .colab-df-convert {\n",
              "      background-color: #E8F0FE;\n",
              "      border: none;\n",
              "      border-radius: 50%;\n",
              "      cursor: pointer;\n",
              "      display: none;\n",
              "      fill: #1967D2;\n",
              "      height: 32px;\n",
              "      padding: 0 0 0 0;\n",
              "      width: 32px;\n",
              "    }\n",
              "\n",
              "    .colab-df-convert:hover {\n",
              "      background-color: #E2EBFA;\n",
              "      box-shadow: 0px 1px 2px rgba(60, 64, 67, 0.3), 0px 1px 3px 1px rgba(60, 64, 67, 0.15);\n",
              "      fill: #174EA6;\n",
              "    }\n",
              "\n",
              "    .colab-df-buttons div {\n",
              "      margin-bottom: 4px;\n",
              "    }\n",
              "\n",
              "    [theme=dark] .colab-df-convert {\n",
              "      background-color: #3B4455;\n",
              "      fill: #D2E3FC;\n",
              "    }\n",
              "\n",
              "    [theme=dark] .colab-df-convert:hover {\n",
              "      background-color: #434B5C;\n",
              "      box-shadow: 0px 1px 3px 1px rgba(0, 0, 0, 0.15);\n",
              "      filter: drop-shadow(0px 1px 2px rgba(0, 0, 0, 0.3));\n",
              "      fill: #FFFFFF;\n",
              "    }\n",
              "  </style>\n",
              "\n",
              "    <script>\n",
              "      const buttonEl =\n",
              "        document.querySelector('#df-cad9bf64-925f-4760-a711-226548227b0a button.colab-df-convert');\n",
              "      buttonEl.style.display =\n",
              "        google.colab.kernel.accessAllowed ? 'block' : 'none';\n",
              "\n",
              "      async function convertToInteractive(key) {\n",
              "        const element = document.querySelector('#df-cad9bf64-925f-4760-a711-226548227b0a');\n",
              "        const dataTable =\n",
              "          await google.colab.kernel.invokeFunction('convertToInteractive',\n",
              "                                                    [key], {});\n",
              "        if (!dataTable) return;\n",
              "\n",
              "        const docLinkHtml = 'Like what you see? Visit the ' +\n",
              "          '<a target=\"_blank\" href=https://colab.research.google.com/notebooks/data_table.ipynb>data table notebook</a>'\n",
              "          + ' to learn more about interactive tables.';\n",
              "        element.innerHTML = '';\n",
              "        dataTable['output_type'] = 'display_data';\n",
              "        await google.colab.output.renderOutput(dataTable, element);\n",
              "        const docLink = document.createElement('div');\n",
              "        docLink.innerHTML = docLinkHtml;\n",
              "        element.appendChild(docLink);\n",
              "      }\n",
              "    </script>\n",
              "  </div>\n",
              "\n",
              "\n",
              "<div id=\"df-3455a5e7-34a1-4dc1-8222-5475208c6227\">\n",
              "  <button class=\"colab-df-quickchart\" onclick=\"quickchart('df-3455a5e7-34a1-4dc1-8222-5475208c6227')\"\n",
              "            title=\"Suggest charts\"\n",
              "            style=\"display:none;\">\n",
              "\n",
              "<svg xmlns=\"http://www.w3.org/2000/svg\" height=\"24px\"viewBox=\"0 0 24 24\"\n",
              "     width=\"24px\">\n",
              "    <g>\n",
              "        <path d=\"M19 3H5c-1.1 0-2 .9-2 2v14c0 1.1.9 2 2 2h14c1.1 0 2-.9 2-2V5c0-1.1-.9-2-2-2zM9 17H7v-7h2v7zm4 0h-2V7h2v10zm4 0h-2v-4h2v4z\"/>\n",
              "    </g>\n",
              "</svg>\n",
              "  </button>\n",
              "\n",
              "<style>\n",
              "  .colab-df-quickchart {\n",
              "      --bg-color: #E8F0FE;\n",
              "      --fill-color: #1967D2;\n",
              "      --hover-bg-color: #E2EBFA;\n",
              "      --hover-fill-color: #174EA6;\n",
              "      --disabled-fill-color: #AAA;\n",
              "      --disabled-bg-color: #DDD;\n",
              "  }\n",
              "\n",
              "  [theme=dark] .colab-df-quickchart {\n",
              "      --bg-color: #3B4455;\n",
              "      --fill-color: #D2E3FC;\n",
              "      --hover-bg-color: #434B5C;\n",
              "      --hover-fill-color: #FFFFFF;\n",
              "      --disabled-bg-color: #3B4455;\n",
              "      --disabled-fill-color: #666;\n",
              "  }\n",
              "\n",
              "  .colab-df-quickchart {\n",
              "    background-color: var(--bg-color);\n",
              "    border: none;\n",
              "    border-radius: 50%;\n",
              "    cursor: pointer;\n",
              "    display: none;\n",
              "    fill: var(--fill-color);\n",
              "    height: 32px;\n",
              "    padding: 0;\n",
              "    width: 32px;\n",
              "  }\n",
              "\n",
              "  .colab-df-quickchart:hover {\n",
              "    background-color: var(--hover-bg-color);\n",
              "    box-shadow: 0 1px 2px rgba(60, 64, 67, 0.3), 0 1px 3px 1px rgba(60, 64, 67, 0.15);\n",
              "    fill: var(--button-hover-fill-color);\n",
              "  }\n",
              "\n",
              "  .colab-df-quickchart-complete:disabled,\n",
              "  .colab-df-quickchart-complete:disabled:hover {\n",
              "    background-color: var(--disabled-bg-color);\n",
              "    fill: var(--disabled-fill-color);\n",
              "    box-shadow: none;\n",
              "  }\n",
              "\n",
              "  .colab-df-spinner {\n",
              "    border: 2px solid var(--fill-color);\n",
              "    border-color: transparent;\n",
              "    border-bottom-color: var(--fill-color);\n",
              "    animation:\n",
              "      spin 1s steps(1) infinite;\n",
              "  }\n",
              "\n",
              "  @keyframes spin {\n",
              "    0% {\n",
              "      border-color: transparent;\n",
              "      border-bottom-color: var(--fill-color);\n",
              "      border-left-color: var(--fill-color);\n",
              "    }\n",
              "    20% {\n",
              "      border-color: transparent;\n",
              "      border-left-color: var(--fill-color);\n",
              "      border-top-color: var(--fill-color);\n",
              "    }\n",
              "    30% {\n",
              "      border-color: transparent;\n",
              "      border-left-color: var(--fill-color);\n",
              "      border-top-color: var(--fill-color);\n",
              "      border-right-color: var(--fill-color);\n",
              "    }\n",
              "    40% {\n",
              "      border-color: transparent;\n",
              "      border-right-color: var(--fill-color);\n",
              "      border-top-color: var(--fill-color);\n",
              "    }\n",
              "    60% {\n",
              "      border-color: transparent;\n",
              "      border-right-color: var(--fill-color);\n",
              "    }\n",
              "    80% {\n",
              "      border-color: transparent;\n",
              "      border-right-color: var(--fill-color);\n",
              "      border-bottom-color: var(--fill-color);\n",
              "    }\n",
              "    90% {\n",
              "      border-color: transparent;\n",
              "      border-bottom-color: var(--fill-color);\n",
              "    }\n",
              "  }\n",
              "</style>\n",
              "\n",
              "  <script>\n",
              "    async function quickchart(key) {\n",
              "      const quickchartButtonEl =\n",
              "        document.querySelector('#' + key + ' button');\n",
              "      quickchartButtonEl.disabled = true;  // To prevent multiple clicks.\n",
              "      quickchartButtonEl.classList.add('colab-df-spinner');\n",
              "      try {\n",
              "        const charts = await google.colab.kernel.invokeFunction(\n",
              "            'suggestCharts', [key], {});\n",
              "      } catch (error) {\n",
              "        console.error('Error during call to suggestCharts:', error);\n",
              "      }\n",
              "      quickchartButtonEl.classList.remove('colab-df-spinner');\n",
              "      quickchartButtonEl.classList.add('colab-df-quickchart-complete');\n",
              "    }\n",
              "    (() => {\n",
              "      let quickchartButtonEl =\n",
              "        document.querySelector('#df-3455a5e7-34a1-4dc1-8222-5475208c6227 button');\n",
              "      quickchartButtonEl.style.display =\n",
              "        google.colab.kernel.accessAllowed ? 'block' : 'none';\n",
              "    })();\n",
              "  </script>\n",
              "</div>\n",
              "    </div>\n",
              "  </div>\n"
            ],
            "application/vnd.google.colaboratory.intrinsic+json": {
              "type": "dataframe",
              "variable_name": "X_train"
            }
          },
          "metadata": {}
        }
      ]
    },
    {
      "cell_type": "code",
      "source": [
        "# Applying SMOTE to balance the train set\n",
        "smote = SMOTE(random_state=42)\n",
        "\n",
        "X_train_resampled, y_train_resampled = smote.fit_resample(X_train, y_train)\n",
        "\n",
        "print(\"Class Distribution after SMOTE:\")\n",
        "print(y_train_resampled.value_counts())"
      ],
      "metadata": {
        "colab": {
          "base_uri": "https://localhost:8080/"
        },
        "id": "Ka1ycftS1NVe",
        "outputId": "a958f8c5-3f95-4315-ae2c-281e7c451c8b"
      },
      "id": "Ka1ycftS1NVe",
      "execution_count": 92,
      "outputs": [
        {
          "output_type": "stream",
          "name": "stdout",
          "text": [
            "Class Distribution after SMOTE:\n",
            "0    113573\n",
            "3    113573\n",
            "1    113573\n",
            "2    113573\n",
            "4    113573\n",
            "Name: MCI_CATEGORY, dtype: int64\n"
          ]
        }
      ]
    },
    {
      "cell_type": "code",
      "source": [
        "# Initialize classifiers using 10-fold cross validation\n",
        "classifiers = {\n",
        "    'Decision Tree': DecisionTreeClassifier(),\n",
        "    'KNN': KNeighborsClassifier(),\n",
        "    'Naive Bayes': GaussianNB(),\n",
        "}\n",
        "\n",
        "for name, clf in classifiers.items():\n",
        "    cv_scores = cross_val_score(clf, X_train_resampled, y_train_resampled, cv=10)\n",
        "\n",
        "    clf.fit(X_train_resampled, y_train_resampled)\n",
        "\n",
        "    test_score = clf.score(X_test, y_test)\n",
        "\n",
        "    print(f\"Classifier: {name}\")\n",
        "    print(\"Cross-validation scores on training set:\", cv_scores)\n",
        "    print(\"Mean cross-validation score on training set:\", np.mean(cv_scores))\n",
        "    print(\"Accuracy on test set:\", test_score)\n",
        "    print()"
      ],
      "metadata": {
        "colab": {
          "base_uri": "https://localhost:8080/"
        },
        "id": "STCuF6oH1Vcr",
        "outputId": "10a4f361-5b0b-4e06-ca15-4b20324c6cc4"
      },
      "id": "STCuF6oH1Vcr",
      "execution_count": 93,
      "outputs": [
        {
          "output_type": "stream",
          "name": "stdout",
          "text": [
            "Classifier: Decision Tree\n",
            "Cross-validation scores on training set: [1. 1. 1. 1. 1. 1. 1. 1. 1. 1.]\n",
            "Mean cross-validation score on training set: 1.0\n",
            "Accuracy on test set: 1.0\n",
            "\n",
            "Classifier: KNN\n",
            "Cross-validation scores on training set: [0.97224717 0.97152517 0.97347985 0.9788684  0.98311233 0.98307681\n",
            " 0.98240764 0.98226676 0.98228437 0.98321769]\n",
            "Mean cross-validation score on training set: 0.9792486189678389\n",
            "Accuracy on test set: 0.9360230969591096\n",
            "\n",
            "Classifier: Naive Bayes\n",
            "Cross-validation scores on training set: [1. 1. 1. 1. 1. 1. 1. 1. 1. 1.]\n",
            "Mean cross-validation score on training set: 1.0\n",
            "Accuracy on test set: 1.0\n",
            "\n"
          ]
        }
      ]
    }
  ],
  "metadata": {
    "kernelspec": {
      "display_name": "Python 3 (ipykernel)",
      "language": "python",
      "name": "python3"
    },
    "language_info": {
      "codemirror_mode": {
        "name": "ipython",
        "version": 3
      },
      "file_extension": ".py",
      "mimetype": "text/x-python",
      "name": "python",
      "nbconvert_exporter": "python",
      "pygments_lexer": "ipython3",
      "version": "3.9.12"
    },
    "colab": {
      "provenance": []
    }
  },
  "nbformat": 4,
  "nbformat_minor": 5
}